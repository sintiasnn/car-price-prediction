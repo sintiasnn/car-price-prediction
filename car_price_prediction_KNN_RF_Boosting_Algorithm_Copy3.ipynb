{
 "cells": [
  {
   "cell_type": "markdown",
   "metadata": {
    "id": "Tor74ww1HP7-"
   },
   "source": [
    "# Prediksi Harga Mobil Audi - Ni Putu Sintia Wati"
   ]
  },
  {
   "cell_type": "markdown",
   "metadata": {
    "id": "ANSLfhL6HBEf"
   },
   "source": [
    "## Domain Project\n",
    "\n",
    "mobil menjadi sarana transportasi yang dimiliki sebagian besar lapisan masyarakat. Terdapat berbagai merek dan jenis mobil dengan spesifik yang bervariasi. Model bisnis yang diterapkan yaitu sebagai tim marketing, yang bertugas untuk menentukan harga produk yang akan dipasarkan. Para konsumen mencari informasi baik dari situs asli atau katalog mobil yang tersedia. \n",
    "\n",
    "Untuk efisiensi, kita akan menerapkan teknik predictive modelling untuk memprediksi harga mobil tersebut sehingga dapat memudahkan konsumen dalam menentukan model mobil yang ingin dibelinya. Merek mobil yang dijadikan contoh yakni merek Audi. Dalam penjualannya, harga mobil dipengaruhi oleh fitur khusus, seperti model, tahun registrasi, harga (dalam satuan euro), jenis transmisi,jarak tempuh, jenis bahan bakar, pajak, mpg(penggunaan bahan bakar), dan kapasitas mesin. "
   ]
  },
  {
   "cell_type": "markdown",
   "metadata": {
    "id": "5sAGZakqGHnZ"
   },
   "source": [
    "## Business Understanding\n",
    "\n",
    "### Problem Statement\n",
    "\n",
    "1. dari semua fitur yang ada, fitur apa yang paling berpengaruh dalam menentukan harga mobil?\n",
    "2. berapa harga pasar mobil dengan fitur tententu?\n",
    "\n",
    "### Goals \n",
    "\n",
    "- Mengetahui fitur yang memiliki hubungan dengan harga mobil.\n",
    "- Membuat Model ML yang dapat memprediksi harga berdasarkan fitur yang ada\n",
    "\n",
    "### Solution statements\n",
    "pada kasus ini, kami mengajukan tiga algoritma machine learning sebagai solusi permasalahan, yaitu KNN Algorithm, Random Forest dan Boosting Algorithm. \n",
    "\n",
    "- **KNN**. \n",
    "cara kerja algoritma KNN yaitu mengklasifikasi sekumpulan data dengan menentukan jumlah tetangga terdekat lalu menghitung jarak objek terhadap data latih dengan perhitungan kuadrat jarak eucliden. KNN memiliki kelebihan, salah satunya mudah diimplementasi karena hanya menentukan objek dengan menghitung jarak antar instance. namun salah satu kekurangan dari algoritma ini yaitu perlu menunjukan parameter k dan menentukan nilai k yang sesuai untuk menghindari outlier dalam KNN\n",
    "\n",
    "- **Random Forest**. \n",
    "cara kerja dari Random Forest yaitu memecah data ke dalam decision tree secara acak. lalu akan dilakukan pemilihan untuk setiap kelas dari data sampel. kemudian mengkombinasikan hasil suara dari setiap kelas untuk diambil yang terbanyak. salah satu kelebihan dari random forest yaitu dapat mengatasi missing value data pada jumlah yang besar. namun salah satu kelemahan dari Random Forest antara lain proses learning yang lambat karena karena bergantung pada parameter yang digunanakan.\n",
    "\n",
    "- **Boosting Algorithm**. \n",
    "cara kerja dari algoritma boosting yaitu membangun model dari data latih lali membuat model kedua untuk memperbaiki kesalahan di model pertama. penambahan model dilakukan hingga mencapai jumlah maksimum model untuk ditambahkan. \n"
   ]
  },
  {
   "cell_type": "markdown",
   "metadata": {
    "id": "ql8zlMISGHoZ"
   },
   "source": [
    "## Data Understanding\n",
    "\n",
    "\n",
    "Data yang digunakan untuk projek kali ini yaitu audi car dataset yang diunduh dari kaggle. \n",
    "(https://www.kaggle.com/adityadesai13/used-car-dataset-ford-and-mercedes).\n",
    "\n",
    "Variabel-variabel pada audi car dataset adalah sebagai berikut:\n",
    "- year : tahun registrasi \n",
    "- price : harga dalam £\n",
    "- transmission : tipe gearbox\n",
    "- mileage : jarak tempuh\n",
    "- fuelType : tipe bahan bakar mesin\n",
    "- tax : pajak\n",
    "- mpg : miles per gallon\n",
    "- engineSize : ukuran mesin"
   ]
  },
  {
   "cell_type": "markdown",
   "metadata": {},
   "source": [
    "### Data Loading"
   ]
  },
  {
   "cell_type": "markdown",
   "metadata": {
    "id": "ni2_1DtaGHod"
   },
   "source": [
    "Import library yang akan digunakan seperti pandas untuk membaca data, numpy untuk numeratical data, matplotlib dan seaborn untuk visualisasi data. "
   ]
  },
  {
   "cell_type": "code",
   "execution_count": null,
   "metadata": {
    "id": "L-DiKrxFGHoj"
   },
   "outputs": [],
   "source": [
    "import numpy as np\n",
    "import matplotlib.pyplot as plt\n",
    "import pandas as pd\n",
    "%matplotlib inline\n",
    "import seaborn as sns"
   ]
  },
  {
   "cell_type": "markdown",
   "metadata": {
    "id": "QyrHiDdwGHoq"
   },
   "source": [
    "Data Loading yaitu memuat data yang akan diolah pada proses Modeling nanti. dataset yang digunakan yaitu audi.csv. lalu tambahkan fungsi .head() untuk nenampilkan data teratas. hasilnya seperti dibawah ini. "
   ]
  },
  {
   "cell_type": "code",
   "execution_count": null,
   "metadata": {
    "id": "Pvdr9trqGHos",
    "outputId": "aff47c84-0215-4027-a10e-d8b76db28c43"
   },
   "outputs": [
    {
     "data": {
      "text/html": [
       "<div>\n",
       "<style scoped>\n",
       "    .dataframe tbody tr th:only-of-type {\n",
       "        vertical-align: middle;\n",
       "    }\n",
       "\n",
       "    .dataframe tbody tr th {\n",
       "        vertical-align: top;\n",
       "    }\n",
       "\n",
       "    .dataframe thead th {\n",
       "        text-align: right;\n",
       "    }\n",
       "</style>\n",
       "<table border=\"1\" class=\"dataframe\">\n",
       "  <thead>\n",
       "    <tr style=\"text-align: right;\">\n",
       "      <th></th>\n",
       "      <th>model</th>\n",
       "      <th>year</th>\n",
       "      <th>price</th>\n",
       "      <th>transmission</th>\n",
       "      <th>mileage</th>\n",
       "      <th>fuelType</th>\n",
       "      <th>tax</th>\n",
       "      <th>mpg</th>\n",
       "      <th>engineSize</th>\n",
       "    </tr>\n",
       "  </thead>\n",
       "  <tbody>\n",
       "    <tr>\n",
       "      <td>0</td>\n",
       "      <td>A1</td>\n",
       "      <td>2017</td>\n",
       "      <td>12500</td>\n",
       "      <td>Manual</td>\n",
       "      <td>15735</td>\n",
       "      <td>Petrol</td>\n",
       "      <td>150</td>\n",
       "      <td>55.4</td>\n",
       "      <td>1.4</td>\n",
       "    </tr>\n",
       "    <tr>\n",
       "      <td>1</td>\n",
       "      <td>A6</td>\n",
       "      <td>2016</td>\n",
       "      <td>16500</td>\n",
       "      <td>Automatic</td>\n",
       "      <td>36203</td>\n",
       "      <td>Diesel</td>\n",
       "      <td>20</td>\n",
       "      <td>64.2</td>\n",
       "      <td>2.0</td>\n",
       "    </tr>\n",
       "  </tbody>\n",
       "</table>\n",
       "</div>"
      ],
      "text/plain": [
       "  model  year  price transmission  mileage fuelType  tax   mpg  engineSize\n",
       "0    A1  2017  12500       Manual    15735   Petrol  150  55.4         1.4\n",
       "1    A6  2016  16500    Automatic    36203   Diesel   20  64.2         2.0"
      ]
     },
     "execution_count": 2,
     "metadata": {},
     "output_type": "execute_result"
    }
   ],
   "source": [
    "data = 'C:/Users/HP/Downloads/car-price-prediction/audi.csv'\n",
    "cars = pd.read_csv(data)\n",
    "cars.head(2)"
   ]
  },
  {
   "cell_type": "markdown",
   "metadata": {
    "id": "Mfo1ziNkGHo7"
   },
   "source": [
    "untuk menentukan ukuran dari dataset yang akan digunakan, dapat digunakan fungsi .shape. hasilnya akan seperti dibawah. bagian depan disebut baris sedangkan dibelakang koma disebut jumlah kolom."
   ]
  },
  {
   "cell_type": "code",
   "execution_count": null,
   "metadata": {
    "id": "8C3M-4daGHpA",
    "outputId": "9ca3f8df-d33e-425c-f095-765aad880080"
   },
   "outputs": [
    {
     "data": {
      "text/plain": [
       "(10668, 9)"
      ]
     },
     "execution_count": 3,
     "metadata": {},
     "output_type": "execute_result"
    }
   ],
   "source": [
    "cars.shape"
   ]
  },
  {
   "cell_type": "markdown",
   "metadata": {
    "id": "awVe8LEMGHpH"
   },
   "source": [
    "### Data Analysis\n",
    "\n",
    "Exploratory Data Analysis (EDA) merupakan proses pengenalan data untuk menganalisis karakteristik, menemukan pola, anomali dan memeriksa asumsi data. teknik tersebut juga menggunakan bantuan statistik dan visualisasi grafis. "
   ]
  },
  {
   "cell_type": "markdown",
   "metadata": {},
   "source": [
    "**Deskripsi variabel** \\\n",
    "Pada pembuka Data Understanding, telah dijelaskan variable yang akan digunakan. selanjutnya akan kita cek informasi pada dataset dengan beberapa perintah dibawah ini.\n",
    "\n",
    "\n",
    "terdapat 3 tipe data yang digunakan, diantaranya object (model, transsmission, fuelType), int(year, price, mileage, tax), dan float(mpg dan engineSize)."
   ]
  },
  {
   "cell_type": "code",
   "execution_count": null,
   "metadata": {
    "id": "6eRq58NCGHpL",
    "outputId": "0fc338f1-a96c-40e9-bd99-2d98a002e836"
   },
   "outputs": [
    {
     "name": "stdout",
     "output_type": "stream",
     "text": [
      "<class 'pandas.core.frame.DataFrame'>\n",
      "RangeIndex: 10668 entries, 0 to 10667\n",
      "Data columns (total 9 columns):\n",
      "model           10668 non-null object\n",
      "year            10668 non-null int64\n",
      "price           10668 non-null int64\n",
      "transmission    10668 non-null object\n",
      "mileage         10668 non-null int64\n",
      "fuelType        10668 non-null object\n",
      "tax             10668 non-null int64\n",
      "mpg             10668 non-null float64\n",
      "engineSize      10668 non-null float64\n",
      "dtypes: float64(2), int64(4), object(3)\n",
      "memory usage: 750.2+ KB\n"
     ]
    }
   ],
   "source": [
    "cars.info()"
   ]
  },
  {
   "cell_type": "markdown",
   "metadata": {},
   "source": [
    "**Penanganan Missing Value** \\"
   ]
  },
  {
   "cell_type": "markdown",
   "metadata": {
    "id": "Sg-eYP3EGHpP"
   },
   "source": [
    "untuk memastikan ada tidaknya missing value, kita dapat melakukan deskripsi statistik dengan penggunakan fungsi describe()"
   ]
  },
  {
   "cell_type": "code",
   "execution_count": null,
   "metadata": {
    "id": "S6NHHZHFGHpX",
    "outputId": "a647272a-9add-4533-84cf-c5c3cf0dd767"
   },
   "outputs": [
    {
     "data": {
      "text/html": [
       "<div>\n",
       "<style scoped>\n",
       "    .dataframe tbody tr th:only-of-type {\n",
       "        vertical-align: middle;\n",
       "    }\n",
       "\n",
       "    .dataframe tbody tr th {\n",
       "        vertical-align: top;\n",
       "    }\n",
       "\n",
       "    .dataframe thead th {\n",
       "        text-align: right;\n",
       "    }\n",
       "</style>\n",
       "<table border=\"1\" class=\"dataframe\">\n",
       "  <thead>\n",
       "    <tr style=\"text-align: right;\">\n",
       "      <th></th>\n",
       "      <th>year</th>\n",
       "      <th>price</th>\n",
       "      <th>mileage</th>\n",
       "      <th>tax</th>\n",
       "      <th>mpg</th>\n",
       "      <th>engineSize</th>\n",
       "    </tr>\n",
       "  </thead>\n",
       "  <tbody>\n",
       "    <tr>\n",
       "      <td>count</td>\n",
       "      <td>10668.000000</td>\n",
       "      <td>10668.000000</td>\n",
       "      <td>10668.000000</td>\n",
       "      <td>10668.000000</td>\n",
       "      <td>10668.000000</td>\n",
       "      <td>10668.000000</td>\n",
       "    </tr>\n",
       "    <tr>\n",
       "      <td>mean</td>\n",
       "      <td>2017.100675</td>\n",
       "      <td>22896.685039</td>\n",
       "      <td>24827.244001</td>\n",
       "      <td>126.011436</td>\n",
       "      <td>50.770022</td>\n",
       "      <td>1.930709</td>\n",
       "    </tr>\n",
       "    <tr>\n",
       "      <td>std</td>\n",
       "      <td>2.167494</td>\n",
       "      <td>11714.841888</td>\n",
       "      <td>23505.257205</td>\n",
       "      <td>67.170294</td>\n",
       "      <td>12.949782</td>\n",
       "      <td>0.602957</td>\n",
       "    </tr>\n",
       "    <tr>\n",
       "      <td>min</td>\n",
       "      <td>1997.000000</td>\n",
       "      <td>1490.000000</td>\n",
       "      <td>1.000000</td>\n",
       "      <td>0.000000</td>\n",
       "      <td>18.900000</td>\n",
       "      <td>0.000000</td>\n",
       "    </tr>\n",
       "    <tr>\n",
       "      <td>25%</td>\n",
       "      <td>2016.000000</td>\n",
       "      <td>15130.750000</td>\n",
       "      <td>5968.750000</td>\n",
       "      <td>125.000000</td>\n",
       "      <td>40.900000</td>\n",
       "      <td>1.500000</td>\n",
       "    </tr>\n",
       "    <tr>\n",
       "      <td>50%</td>\n",
       "      <td>2017.000000</td>\n",
       "      <td>20200.000000</td>\n",
       "      <td>19000.000000</td>\n",
       "      <td>145.000000</td>\n",
       "      <td>49.600000</td>\n",
       "      <td>2.000000</td>\n",
       "    </tr>\n",
       "    <tr>\n",
       "      <td>75%</td>\n",
       "      <td>2019.000000</td>\n",
       "      <td>27990.000000</td>\n",
       "      <td>36464.500000</td>\n",
       "      <td>145.000000</td>\n",
       "      <td>58.900000</td>\n",
       "      <td>2.000000</td>\n",
       "    </tr>\n",
       "    <tr>\n",
       "      <td>max</td>\n",
       "      <td>2020.000000</td>\n",
       "      <td>145000.000000</td>\n",
       "      <td>323000.000000</td>\n",
       "      <td>580.000000</td>\n",
       "      <td>188.300000</td>\n",
       "      <td>6.300000</td>\n",
       "    </tr>\n",
       "  </tbody>\n",
       "</table>\n",
       "</div>"
      ],
      "text/plain": [
       "               year          price        mileage           tax           mpg  \\\n",
       "count  10668.000000   10668.000000   10668.000000  10668.000000  10668.000000   \n",
       "mean    2017.100675   22896.685039   24827.244001    126.011436     50.770022   \n",
       "std        2.167494   11714.841888   23505.257205     67.170294     12.949782   \n",
       "min     1997.000000    1490.000000       1.000000      0.000000     18.900000   \n",
       "25%     2016.000000   15130.750000    5968.750000    125.000000     40.900000   \n",
       "50%     2017.000000   20200.000000   19000.000000    145.000000     49.600000   \n",
       "75%     2019.000000   27990.000000   36464.500000    145.000000     58.900000   \n",
       "max     2020.000000  145000.000000  323000.000000    580.000000    188.300000   \n",
       "\n",
       "         engineSize  \n",
       "count  10668.000000  \n",
       "mean       1.930709  \n",
       "std        0.602957  \n",
       "min        0.000000  \n",
       "25%        1.500000  \n",
       "50%        2.000000  \n",
       "75%        2.000000  \n",
       "max        6.300000  "
      ]
     },
     "execution_count": 5,
     "metadata": {},
     "output_type": "execute_result"
    }
   ],
   "source": [
    "cars.describe()"
   ]
  },
  {
   "cell_type": "markdown",
   "metadata": {
    "id": "XVPNZYnYGHpb"
   },
   "source": [
    "Berdasarkan output diatas, terdapat dua variable dengan nilai minimum 0 yaitu pada variabel tax dan engineSize. Hal tersebut terindikasi adanya missing value. Selanjutnya kita cek pada kedua variabel jumlah data yang memiliki nilai 0. "
   ]
  },
  {
   "cell_type": "code",
   "execution_count": null,
   "metadata": {
    "id": "5tY1AQUuGHpd",
    "outputId": "fa2e828e-d632-4df1-924a-3ca324fb31d4"
   },
   "outputs": [
    {
     "name": "stdout",
     "output_type": "stream",
     "text": [
      "nilai 0 pada tax :  536\n",
      "nilai 0 pada engineSize :  57\n"
     ]
    }
   ],
   "source": [
    "tax = (cars.tax == 0).sum()\n",
    "engineSize = (cars.engineSize == 0).sum()\n",
    "print(\"nilai 0 pada tax : \",tax)\n",
    "print(\"nilai 0 pada engineSize : \",engineSize)"
   ]
  },
  {
   "cell_type": "markdown",
   "metadata": {},
   "source": [
    "untuk memastikan kembali, kita dapat mengetahui data yang memiliki nilai 0 tersebut dengan fungsi loc[] dengan kondisi nilaiVariable==0"
   ]
  },
  {
   "cell_type": "code",
   "execution_count": null,
   "metadata": {
    "id": "Pr67YEdvGHpl",
    "outputId": "913be2d8-b4a9-418c-dffc-758abd1e0ecc"
   },
   "outputs": [
    {
     "data": {
      "text/html": [
       "<div>\n",
       "<style scoped>\n",
       "    .dataframe tbody tr th:only-of-type {\n",
       "        vertical-align: middle;\n",
       "    }\n",
       "\n",
       "    .dataframe tbody tr th {\n",
       "        vertical-align: top;\n",
       "    }\n",
       "\n",
       "    .dataframe thead th {\n",
       "        text-align: right;\n",
       "    }\n",
       "</style>\n",
       "<table border=\"1\" class=\"dataframe\">\n",
       "  <thead>\n",
       "    <tr style=\"text-align: right;\">\n",
       "      <th></th>\n",
       "      <th>model</th>\n",
       "      <th>year</th>\n",
       "      <th>price</th>\n",
       "      <th>transmission</th>\n",
       "      <th>mileage</th>\n",
       "      <th>fuelType</th>\n",
       "      <th>tax</th>\n",
       "      <th>mpg</th>\n",
       "      <th>engineSize</th>\n",
       "    </tr>\n",
       "  </thead>\n",
       "  <tbody>\n",
       "    <tr>\n",
       "      <td>30</td>\n",
       "      <td>A1</td>\n",
       "      <td>2015</td>\n",
       "      <td>9500</td>\n",
       "      <td>Automatic</td>\n",
       "      <td>54754</td>\n",
       "      <td>Diesel</td>\n",
       "      <td>0</td>\n",
       "      <td>76.3</td>\n",
       "      <td>1.6</td>\n",
       "    </tr>\n",
       "    <tr>\n",
       "      <td>50</td>\n",
       "      <td>A4</td>\n",
       "      <td>2016</td>\n",
       "      <td>12750</td>\n",
       "      <td>Manual</td>\n",
       "      <td>52561</td>\n",
       "      <td>Diesel</td>\n",
       "      <td>0</td>\n",
       "      <td>74.3</td>\n",
       "      <td>2.0</td>\n",
       "    </tr>\n",
       "    <tr>\n",
       "      <td>58</td>\n",
       "      <td>A3</td>\n",
       "      <td>2016</td>\n",
       "      <td>10200</td>\n",
       "      <td>Manual</td>\n",
       "      <td>66369</td>\n",
       "      <td>Diesel</td>\n",
       "      <td>0</td>\n",
       "      <td>83.1</td>\n",
       "      <td>1.6</td>\n",
       "    </tr>\n",
       "    <tr>\n",
       "      <td>60</td>\n",
       "      <td>A1</td>\n",
       "      <td>2013</td>\n",
       "      <td>7000</td>\n",
       "      <td>Manual</td>\n",
       "      <td>76269</td>\n",
       "      <td>Diesel</td>\n",
       "      <td>0</td>\n",
       "      <td>74.3</td>\n",
       "      <td>1.6</td>\n",
       "    </tr>\n",
       "    <tr>\n",
       "      <td>69</td>\n",
       "      <td>A1</td>\n",
       "      <td>2016</td>\n",
       "      <td>10800</td>\n",
       "      <td>Manual</td>\n",
       "      <td>18181</td>\n",
       "      <td>Petrol</td>\n",
       "      <td>0</td>\n",
       "      <td>67.3</td>\n",
       "      <td>1.0</td>\n",
       "    </tr>\n",
       "    <tr>\n",
       "      <td>...</td>\n",
       "      <td>...</td>\n",
       "      <td>...</td>\n",
       "      <td>...</td>\n",
       "      <td>...</td>\n",
       "      <td>...</td>\n",
       "      <td>...</td>\n",
       "      <td>...</td>\n",
       "      <td>...</td>\n",
       "      <td>...</td>\n",
       "    </tr>\n",
       "    <tr>\n",
       "      <td>10430</td>\n",
       "      <td>A1</td>\n",
       "      <td>2017</td>\n",
       "      <td>13500</td>\n",
       "      <td>Manual</td>\n",
       "      <td>4520</td>\n",
       "      <td>Petrol</td>\n",
       "      <td>0</td>\n",
       "      <td>67.3</td>\n",
       "      <td>1.0</td>\n",
       "    </tr>\n",
       "    <tr>\n",
       "      <td>10513</td>\n",
       "      <td>A1</td>\n",
       "      <td>2013</td>\n",
       "      <td>6999</td>\n",
       "      <td>Manual</td>\n",
       "      <td>90000</td>\n",
       "      <td>Diesel</td>\n",
       "      <td>0</td>\n",
       "      <td>74.3</td>\n",
       "      <td>1.6</td>\n",
       "    </tr>\n",
       "    <tr>\n",
       "      <td>10591</td>\n",
       "      <td>A1</td>\n",
       "      <td>2016</td>\n",
       "      <td>11000</td>\n",
       "      <td>Manual</td>\n",
       "      <td>42082</td>\n",
       "      <td>Petrol</td>\n",
       "      <td>0</td>\n",
       "      <td>67.3</td>\n",
       "      <td>1.0</td>\n",
       "    </tr>\n",
       "    <tr>\n",
       "      <td>10645</td>\n",
       "      <td>A1</td>\n",
       "      <td>2016</td>\n",
       "      <td>10999</td>\n",
       "      <td>Manual</td>\n",
       "      <td>22150</td>\n",
       "      <td>Diesel</td>\n",
       "      <td>0</td>\n",
       "      <td>76.3</td>\n",
       "      <td>1.6</td>\n",
       "    </tr>\n",
       "    <tr>\n",
       "      <td>10656</td>\n",
       "      <td>A3</td>\n",
       "      <td>2016</td>\n",
       "      <td>15495</td>\n",
       "      <td>Semi-Auto</td>\n",
       "      <td>52500</td>\n",
       "      <td>Hybrid</td>\n",
       "      <td>0</td>\n",
       "      <td>176.6</td>\n",
       "      <td>1.4</td>\n",
       "    </tr>\n",
       "  </tbody>\n",
       "</table>\n",
       "<p>536 rows × 9 columns</p>\n",
       "</div>"
      ],
      "text/plain": [
       "      model  year  price transmission  mileage fuelType  tax    mpg  \\\n",
       "30       A1  2015   9500    Automatic    54754   Diesel    0   76.3   \n",
       "50       A4  2016  12750       Manual    52561   Diesel    0   74.3   \n",
       "58       A3  2016  10200       Manual    66369   Diesel    0   83.1   \n",
       "60       A1  2013   7000       Manual    76269   Diesel    0   74.3   \n",
       "69       A1  2016  10800       Manual    18181   Petrol    0   67.3   \n",
       "...     ...   ...    ...          ...      ...      ...  ...    ...   \n",
       "10430    A1  2017  13500       Manual     4520   Petrol    0   67.3   \n",
       "10513    A1  2013   6999       Manual    90000   Diesel    0   74.3   \n",
       "10591    A1  2016  11000       Manual    42082   Petrol    0   67.3   \n",
       "10645    A1  2016  10999       Manual    22150   Diesel    0   76.3   \n",
       "10656    A3  2016  15495    Semi-Auto    52500   Hybrid    0  176.6   \n",
       "\n",
       "       engineSize  \n",
       "30            1.6  \n",
       "50            2.0  \n",
       "58            1.6  \n",
       "60            1.6  \n",
       "69            1.0  \n",
       "...           ...  \n",
       "10430         1.0  \n",
       "10513         1.6  \n",
       "10591         1.0  \n",
       "10645         1.6  \n",
       "10656         1.4  \n",
       "\n",
       "[536 rows x 9 columns]"
      ]
     },
     "execution_count": 7,
     "metadata": {},
     "output_type": "execute_result"
    }
   ],
   "source": [
    "cars.loc[(cars['tax']==0)]"
   ]
  },
  {
   "cell_type": "code",
   "execution_count": null,
   "metadata": {
    "id": "a2BNqLqrGHpn",
    "outputId": "716acae6-daf0-4cee-b605-3d13c53d5f40"
   },
   "outputs": [
    {
     "data": {
      "text/html": [
       "<div>\n",
       "<style scoped>\n",
       "    .dataframe tbody tr th:only-of-type {\n",
       "        vertical-align: middle;\n",
       "    }\n",
       "\n",
       "    .dataframe tbody tr th {\n",
       "        vertical-align: top;\n",
       "    }\n",
       "\n",
       "    .dataframe thead th {\n",
       "        text-align: right;\n",
       "    }\n",
       "</style>\n",
       "<table border=\"1\" class=\"dataframe\">\n",
       "  <thead>\n",
       "    <tr style=\"text-align: right;\">\n",
       "      <th></th>\n",
       "      <th>model</th>\n",
       "      <th>year</th>\n",
       "      <th>price</th>\n",
       "      <th>transmission</th>\n",
       "      <th>mileage</th>\n",
       "      <th>fuelType</th>\n",
       "      <th>tax</th>\n",
       "      <th>mpg</th>\n",
       "      <th>engineSize</th>\n",
       "    </tr>\n",
       "  </thead>\n",
       "  <tbody>\n",
       "    <tr>\n",
       "      <td>7505</td>\n",
       "      <td>Q5</td>\n",
       "      <td>2019</td>\n",
       "      <td>44790</td>\n",
       "      <td>Automatic</td>\n",
       "      <td>5886</td>\n",
       "      <td>Petrol</td>\n",
       "      <td>135</td>\n",
       "      <td>117.7</td>\n",
       "      <td>0.0</td>\n",
       "    </tr>\n",
       "    <tr>\n",
       "      <td>7506</td>\n",
       "      <td>Q3</td>\n",
       "      <td>2019</td>\n",
       "      <td>32788</td>\n",
       "      <td>Automatic</td>\n",
       "      <td>1500</td>\n",
       "      <td>Diesel</td>\n",
       "      <td>145</td>\n",
       "      <td>47.1</td>\n",
       "      <td>0.0</td>\n",
       "    </tr>\n",
       "    <tr>\n",
       "      <td>7516</td>\n",
       "      <td>Q3</td>\n",
       "      <td>2020</td>\n",
       "      <td>29944</td>\n",
       "      <td>Manual</td>\n",
       "      <td>1500</td>\n",
       "      <td>Petrol</td>\n",
       "      <td>145</td>\n",
       "      <td>40.9</td>\n",
       "      <td>0.0</td>\n",
       "    </tr>\n",
       "    <tr>\n",
       "      <td>7517</td>\n",
       "      <td>Q3</td>\n",
       "      <td>2020</td>\n",
       "      <td>33333</td>\n",
       "      <td>Automatic</td>\n",
       "      <td>1500</td>\n",
       "      <td>Diesel</td>\n",
       "      <td>145</td>\n",
       "      <td>47.1</td>\n",
       "      <td>0.0</td>\n",
       "    </tr>\n",
       "    <tr>\n",
       "      <td>7518</td>\n",
       "      <td>Q3</td>\n",
       "      <td>2020</td>\n",
       "      <td>29944</td>\n",
       "      <td>Automatic</td>\n",
       "      <td>1500</td>\n",
       "      <td>Petrol</td>\n",
       "      <td>145</td>\n",
       "      <td>32.5</td>\n",
       "      <td>0.0</td>\n",
       "    </tr>\n",
       "    <tr>\n",
       "      <td>7519</td>\n",
       "      <td>Q3</td>\n",
       "      <td>2020</td>\n",
       "      <td>37990</td>\n",
       "      <td>Automatic</td>\n",
       "      <td>1500</td>\n",
       "      <td>Petrol</td>\n",
       "      <td>145</td>\n",
       "      <td>30.7</td>\n",
       "      <td>0.0</td>\n",
       "    </tr>\n",
       "    <tr>\n",
       "      <td>7521</td>\n",
       "      <td>Q5</td>\n",
       "      <td>2020</td>\n",
       "      <td>49790</td>\n",
       "      <td>Automatic</td>\n",
       "      <td>1500</td>\n",
       "      <td>Petrol</td>\n",
       "      <td>135</td>\n",
       "      <td>117.7</td>\n",
       "      <td>0.0</td>\n",
       "    </tr>\n",
       "    <tr>\n",
       "      <td>7542</td>\n",
       "      <td>Q3</td>\n",
       "      <td>2019</td>\n",
       "      <td>31888</td>\n",
       "      <td>Manual</td>\n",
       "      <td>2001</td>\n",
       "      <td>Petrol</td>\n",
       "      <td>145</td>\n",
       "      <td>40.4</td>\n",
       "      <td>0.0</td>\n",
       "    </tr>\n",
       "    <tr>\n",
       "      <td>7545</td>\n",
       "      <td>Q2</td>\n",
       "      <td>2020</td>\n",
       "      <td>24988</td>\n",
       "      <td>Automatic</td>\n",
       "      <td>1500</td>\n",
       "      <td>Petrol</td>\n",
       "      <td>145</td>\n",
       "      <td>42.2</td>\n",
       "      <td>0.0</td>\n",
       "    </tr>\n",
       "    <tr>\n",
       "      <td>7546</td>\n",
       "      <td>A3</td>\n",
       "      <td>2017</td>\n",
       "      <td>17390</td>\n",
       "      <td>Manual</td>\n",
       "      <td>7110</td>\n",
       "      <td>Petrol</td>\n",
       "      <td>30</td>\n",
       "      <td>60.1</td>\n",
       "      <td>0.0</td>\n",
       "    </tr>\n",
       "    <tr>\n",
       "      <td>7591</td>\n",
       "      <td>Q5</td>\n",
       "      <td>2019</td>\n",
       "      <td>33390</td>\n",
       "      <td>Automatic</td>\n",
       "      <td>45</td>\n",
       "      <td>Diesel</td>\n",
       "      <td>145</td>\n",
       "      <td>39.2</td>\n",
       "      <td>0.0</td>\n",
       "    </tr>\n",
       "    <tr>\n",
       "      <td>7598</td>\n",
       "      <td>A3</td>\n",
       "      <td>2019</td>\n",
       "      <td>22000</td>\n",
       "      <td>Manual</td>\n",
       "      <td>1500</td>\n",
       "      <td>Petrol</td>\n",
       "      <td>145</td>\n",
       "      <td>47.1</td>\n",
       "      <td>0.0</td>\n",
       "    </tr>\n",
       "    <tr>\n",
       "      <td>7611</td>\n",
       "      <td>Q3</td>\n",
       "      <td>2020</td>\n",
       "      <td>32444</td>\n",
       "      <td>Automatic</td>\n",
       "      <td>1500</td>\n",
       "      <td>Petrol</td>\n",
       "      <td>145</td>\n",
       "      <td>31.4</td>\n",
       "      <td>0.0</td>\n",
       "    </tr>\n",
       "    <tr>\n",
       "      <td>7625</td>\n",
       "      <td>A3</td>\n",
       "      <td>2019</td>\n",
       "      <td>23444</td>\n",
       "      <td>Automatic</td>\n",
       "      <td>1500</td>\n",
       "      <td>Petrol</td>\n",
       "      <td>145</td>\n",
       "      <td>44.1</td>\n",
       "      <td>0.0</td>\n",
       "    </tr>\n",
       "    <tr>\n",
       "      <td>7626</td>\n",
       "      <td>Q3</td>\n",
       "      <td>2020</td>\n",
       "      <td>32444</td>\n",
       "      <td>Automatic</td>\n",
       "      <td>1500</td>\n",
       "      <td>Petrol</td>\n",
       "      <td>145</td>\n",
       "      <td>31.4</td>\n",
       "      <td>0.0</td>\n",
       "    </tr>\n",
       "    <tr>\n",
       "      <td>7627</td>\n",
       "      <td>Q3</td>\n",
       "      <td>2020</td>\n",
       "      <td>37888</td>\n",
       "      <td>Automatic</td>\n",
       "      <td>1500</td>\n",
       "      <td>Petrol</td>\n",
       "      <td>145</td>\n",
       "      <td>30.7</td>\n",
       "      <td>0.0</td>\n",
       "    </tr>\n",
       "    <tr>\n",
       "      <td>7628</td>\n",
       "      <td>Q2</td>\n",
       "      <td>2019</td>\n",
       "      <td>24444</td>\n",
       "      <td>Manual</td>\n",
       "      <td>4000</td>\n",
       "      <td>Petrol</td>\n",
       "      <td>145</td>\n",
       "      <td>43.5</td>\n",
       "      <td>0.0</td>\n",
       "    </tr>\n",
       "    <tr>\n",
       "      <td>7631</td>\n",
       "      <td>A3</td>\n",
       "      <td>2019</td>\n",
       "      <td>23444</td>\n",
       "      <td>Automatic</td>\n",
       "      <td>4000</td>\n",
       "      <td>Petrol</td>\n",
       "      <td>145</td>\n",
       "      <td>44.1</td>\n",
       "      <td>0.0</td>\n",
       "    </tr>\n",
       "    <tr>\n",
       "      <td>7632</td>\n",
       "      <td>Q2</td>\n",
       "      <td>2020</td>\n",
       "      <td>24990</td>\n",
       "      <td>Manual</td>\n",
       "      <td>1500</td>\n",
       "      <td>Petrol</td>\n",
       "      <td>145</td>\n",
       "      <td>43.5</td>\n",
       "      <td>0.0</td>\n",
       "    </tr>\n",
       "    <tr>\n",
       "      <td>7641</td>\n",
       "      <td>S4</td>\n",
       "      <td>2020</td>\n",
       "      <td>44888</td>\n",
       "      <td>Automatic</td>\n",
       "      <td>1500</td>\n",
       "      <td>Diesel</td>\n",
       "      <td>145</td>\n",
       "      <td>39.2</td>\n",
       "      <td>0.0</td>\n",
       "    </tr>\n",
       "    <tr>\n",
       "      <td>7642</td>\n",
       "      <td>Q3</td>\n",
       "      <td>2019</td>\n",
       "      <td>32000</td>\n",
       "      <td>Automatic</td>\n",
       "      <td>4000</td>\n",
       "      <td>Petrol</td>\n",
       "      <td>145</td>\n",
       "      <td>31.4</td>\n",
       "      <td>0.0</td>\n",
       "    </tr>\n",
       "    <tr>\n",
       "      <td>7644</td>\n",
       "      <td>SQ5</td>\n",
       "      <td>2019</td>\n",
       "      <td>48800</td>\n",
       "      <td>Automatic</td>\n",
       "      <td>1500</td>\n",
       "      <td>Diesel</td>\n",
       "      <td>145</td>\n",
       "      <td>34.5</td>\n",
       "      <td>0.0</td>\n",
       "    </tr>\n",
       "    <tr>\n",
       "      <td>7647</td>\n",
       "      <td>Q3</td>\n",
       "      <td>2020</td>\n",
       "      <td>31990</td>\n",
       "      <td>Automatic</td>\n",
       "      <td>1500</td>\n",
       "      <td>Petrol</td>\n",
       "      <td>145</td>\n",
       "      <td>40.4</td>\n",
       "      <td>0.0</td>\n",
       "    </tr>\n",
       "    <tr>\n",
       "      <td>7649</td>\n",
       "      <td>Q2</td>\n",
       "      <td>2020</td>\n",
       "      <td>24888</td>\n",
       "      <td>Automatic</td>\n",
       "      <td>1500</td>\n",
       "      <td>Petrol</td>\n",
       "      <td>145</td>\n",
       "      <td>42.2</td>\n",
       "      <td>0.0</td>\n",
       "    </tr>\n",
       "    <tr>\n",
       "      <td>7659</td>\n",
       "      <td>Q3</td>\n",
       "      <td>2020</td>\n",
       "      <td>32444</td>\n",
       "      <td>Automatic</td>\n",
       "      <td>1500</td>\n",
       "      <td>Petrol</td>\n",
       "      <td>145</td>\n",
       "      <td>31.4</td>\n",
       "      <td>0.0</td>\n",
       "    </tr>\n",
       "    <tr>\n",
       "      <td>7662</td>\n",
       "      <td>Q2</td>\n",
       "      <td>2020</td>\n",
       "      <td>24990</td>\n",
       "      <td>Manual</td>\n",
       "      <td>1500</td>\n",
       "      <td>Petrol</td>\n",
       "      <td>145</td>\n",
       "      <td>43.5</td>\n",
       "      <td>0.0</td>\n",
       "    </tr>\n",
       "    <tr>\n",
       "      <td>7667</td>\n",
       "      <td>Q3</td>\n",
       "      <td>2020</td>\n",
       "      <td>33990</td>\n",
       "      <td>Automatic</td>\n",
       "      <td>1500</td>\n",
       "      <td>Diesel</td>\n",
       "      <td>145</td>\n",
       "      <td>47.1</td>\n",
       "      <td>0.0</td>\n",
       "    </tr>\n",
       "    <tr>\n",
       "      <td>7668</td>\n",
       "      <td>Q3</td>\n",
       "      <td>2020</td>\n",
       "      <td>30990</td>\n",
       "      <td>Manual</td>\n",
       "      <td>1500</td>\n",
       "      <td>Petrol</td>\n",
       "      <td>145</td>\n",
       "      <td>40.9</td>\n",
       "      <td>0.0</td>\n",
       "    </tr>\n",
       "    <tr>\n",
       "      <td>7669</td>\n",
       "      <td>Q3</td>\n",
       "      <td>2020</td>\n",
       "      <td>32444</td>\n",
       "      <td>Automatic</td>\n",
       "      <td>1500</td>\n",
       "      <td>Petrol</td>\n",
       "      <td>145</td>\n",
       "      <td>31.4</td>\n",
       "      <td>0.0</td>\n",
       "    </tr>\n",
       "    <tr>\n",
       "      <td>7670</td>\n",
       "      <td>Q3</td>\n",
       "      <td>2020</td>\n",
       "      <td>37888</td>\n",
       "      <td>Automatic</td>\n",
       "      <td>285</td>\n",
       "      <td>Petrol</td>\n",
       "      <td>145</td>\n",
       "      <td>30.7</td>\n",
       "      <td>0.0</td>\n",
       "    </tr>\n",
       "    <tr>\n",
       "      <td>7676</td>\n",
       "      <td>Q3</td>\n",
       "      <td>2020</td>\n",
       "      <td>33444</td>\n",
       "      <td>Automatic</td>\n",
       "      <td>1500</td>\n",
       "      <td>Petrol</td>\n",
       "      <td>145</td>\n",
       "      <td>31.4</td>\n",
       "      <td>0.0</td>\n",
       "    </tr>\n",
       "    <tr>\n",
       "      <td>7685</td>\n",
       "      <td>A4</td>\n",
       "      <td>2014</td>\n",
       "      <td>14950</td>\n",
       "      <td>Automatic</td>\n",
       "      <td>33894</td>\n",
       "      <td>Diesel</td>\n",
       "      <td>200</td>\n",
       "      <td>47.1</td>\n",
       "      <td>0.0</td>\n",
       "    </tr>\n",
       "    <tr>\n",
       "      <td>7688</td>\n",
       "      <td>S4</td>\n",
       "      <td>2019</td>\n",
       "      <td>39850</td>\n",
       "      <td>Automatic</td>\n",
       "      <td>4129</td>\n",
       "      <td>Diesel</td>\n",
       "      <td>145</td>\n",
       "      <td>40.4</td>\n",
       "      <td>0.0</td>\n",
       "    </tr>\n",
       "    <tr>\n",
       "      <td>7694</td>\n",
       "      <td>Q3</td>\n",
       "      <td>2020</td>\n",
       "      <td>30990</td>\n",
       "      <td>Manual</td>\n",
       "      <td>1500</td>\n",
       "      <td>Petrol</td>\n",
       "      <td>145</td>\n",
       "      <td>40.9</td>\n",
       "      <td>0.0</td>\n",
       "    </tr>\n",
       "    <tr>\n",
       "      <td>7698</td>\n",
       "      <td>Q3</td>\n",
       "      <td>2020</td>\n",
       "      <td>36790</td>\n",
       "      <td>Automatic</td>\n",
       "      <td>1330</td>\n",
       "      <td>Petrol</td>\n",
       "      <td>145</td>\n",
       "      <td>30.7</td>\n",
       "      <td>0.0</td>\n",
       "    </tr>\n",
       "    <tr>\n",
       "      <td>7700</td>\n",
       "      <td>Q5</td>\n",
       "      <td>2019</td>\n",
       "      <td>44450</td>\n",
       "      <td>Automatic</td>\n",
       "      <td>5225</td>\n",
       "      <td>Petrol</td>\n",
       "      <td>135</td>\n",
       "      <td>117.7</td>\n",
       "      <td>0.0</td>\n",
       "    </tr>\n",
       "    <tr>\n",
       "      <td>7711</td>\n",
       "      <td>A5</td>\n",
       "      <td>2019</td>\n",
       "      <td>27000</td>\n",
       "      <td>Manual</td>\n",
       "      <td>1325</td>\n",
       "      <td>Petrol</td>\n",
       "      <td>145</td>\n",
       "      <td>37.7</td>\n",
       "      <td>0.0</td>\n",
       "    </tr>\n",
       "    <tr>\n",
       "      <td>7718</td>\n",
       "      <td>S4</td>\n",
       "      <td>2019</td>\n",
       "      <td>45000</td>\n",
       "      <td>Automatic</td>\n",
       "      <td>4900</td>\n",
       "      <td>Diesel</td>\n",
       "      <td>145</td>\n",
       "      <td>40.4</td>\n",
       "      <td>0.0</td>\n",
       "    </tr>\n",
       "    <tr>\n",
       "      <td>7728</td>\n",
       "      <td>SQ5</td>\n",
       "      <td>2020</td>\n",
       "      <td>56450</td>\n",
       "      <td>Automatic</td>\n",
       "      <td>1500</td>\n",
       "      <td>Diesel</td>\n",
       "      <td>145</td>\n",
       "      <td>34.5</td>\n",
       "      <td>0.0</td>\n",
       "    </tr>\n",
       "    <tr>\n",
       "      <td>7732</td>\n",
       "      <td>Q3</td>\n",
       "      <td>2020</td>\n",
       "      <td>33990</td>\n",
       "      <td>Automatic</td>\n",
       "      <td>4000</td>\n",
       "      <td>Diesel</td>\n",
       "      <td>145</td>\n",
       "      <td>47.1</td>\n",
       "      <td>0.0</td>\n",
       "    </tr>\n",
       "    <tr>\n",
       "      <td>7739</td>\n",
       "      <td>Q3</td>\n",
       "      <td>2020</td>\n",
       "      <td>38888</td>\n",
       "      <td>Automatic</td>\n",
       "      <td>1500</td>\n",
       "      <td>Petrol</td>\n",
       "      <td>145</td>\n",
       "      <td>30.7</td>\n",
       "      <td>0.0</td>\n",
       "    </tr>\n",
       "    <tr>\n",
       "      <td>7740</td>\n",
       "      <td>Q3</td>\n",
       "      <td>2020</td>\n",
       "      <td>41888</td>\n",
       "      <td>Automatic</td>\n",
       "      <td>1500</td>\n",
       "      <td>Petrol</td>\n",
       "      <td>145</td>\n",
       "      <td>31.0</td>\n",
       "      <td>0.0</td>\n",
       "    </tr>\n",
       "    <tr>\n",
       "      <td>7741</td>\n",
       "      <td>Q2</td>\n",
       "      <td>2019</td>\n",
       "      <td>23888</td>\n",
       "      <td>Manual</td>\n",
       "      <td>1076</td>\n",
       "      <td>Petrol</td>\n",
       "      <td>145</td>\n",
       "      <td>43.5</td>\n",
       "      <td>0.0</td>\n",
       "    </tr>\n",
       "    <tr>\n",
       "      <td>7743</td>\n",
       "      <td>Q3</td>\n",
       "      <td>2020</td>\n",
       "      <td>29990</td>\n",
       "      <td>Automatic</td>\n",
       "      <td>1500</td>\n",
       "      <td>Diesel</td>\n",
       "      <td>145</td>\n",
       "      <td>47.1</td>\n",
       "      <td>0.0</td>\n",
       "    </tr>\n",
       "    <tr>\n",
       "      <td>7748</td>\n",
       "      <td>Q5</td>\n",
       "      <td>2020</td>\n",
       "      <td>38444</td>\n",
       "      <td>Automatic</td>\n",
       "      <td>1500</td>\n",
       "      <td>Petrol</td>\n",
       "      <td>145</td>\n",
       "      <td>32.1</td>\n",
       "      <td>0.0</td>\n",
       "    </tr>\n",
       "    <tr>\n",
       "      <td>7749</td>\n",
       "      <td>Q3</td>\n",
       "      <td>2020</td>\n",
       "      <td>29488</td>\n",
       "      <td>Manual</td>\n",
       "      <td>1500</td>\n",
       "      <td>Petrol</td>\n",
       "      <td>145</td>\n",
       "      <td>40.9</td>\n",
       "      <td>0.0</td>\n",
       "    </tr>\n",
       "    <tr>\n",
       "      <td>7762</td>\n",
       "      <td>Q3</td>\n",
       "      <td>2020</td>\n",
       "      <td>30000</td>\n",
       "      <td>Automatic</td>\n",
       "      <td>1500</td>\n",
       "      <td>Petrol</td>\n",
       "      <td>145</td>\n",
       "      <td>40.9</td>\n",
       "      <td>0.0</td>\n",
       "    </tr>\n",
       "    <tr>\n",
       "      <td>7835</td>\n",
       "      <td>A5</td>\n",
       "      <td>2015</td>\n",
       "      <td>16700</td>\n",
       "      <td>Automatic</td>\n",
       "      <td>45104</td>\n",
       "      <td>Diesel</td>\n",
       "      <td>125</td>\n",
       "      <td>58.9</td>\n",
       "      <td>0.0</td>\n",
       "    </tr>\n",
       "    <tr>\n",
       "      <td>7836</td>\n",
       "      <td>A5</td>\n",
       "      <td>2016</td>\n",
       "      <td>19000</td>\n",
       "      <td>Manual</td>\n",
       "      <td>26237</td>\n",
       "      <td>Diesel</td>\n",
       "      <td>150</td>\n",
       "      <td>56.5</td>\n",
       "      <td>0.0</td>\n",
       "    </tr>\n",
       "    <tr>\n",
       "      <td>7837</td>\n",
       "      <td>Q3</td>\n",
       "      <td>2017</td>\n",
       "      <td>19300</td>\n",
       "      <td>Manual</td>\n",
       "      <td>16051</td>\n",
       "      <td>Diesel</td>\n",
       "      <td>150</td>\n",
       "      <td>52.3</td>\n",
       "      <td>0.0</td>\n",
       "    </tr>\n",
       "    <tr>\n",
       "      <td>7859</td>\n",
       "      <td>A1</td>\n",
       "      <td>2019</td>\n",
       "      <td>19500</td>\n",
       "      <td>Manual</td>\n",
       "      <td>5696</td>\n",
       "      <td>Petrol</td>\n",
       "      <td>145</td>\n",
       "      <td>50.4</td>\n",
       "      <td>0.0</td>\n",
       "    </tr>\n",
       "    <tr>\n",
       "      <td>7861</td>\n",
       "      <td>TT</td>\n",
       "      <td>2016</td>\n",
       "      <td>22500</td>\n",
       "      <td>Automatic</td>\n",
       "      <td>45182</td>\n",
       "      <td>Petrol</td>\n",
       "      <td>200</td>\n",
       "      <td>40.9</td>\n",
       "      <td>0.0</td>\n",
       "    </tr>\n",
       "    <tr>\n",
       "      <td>7864</td>\n",
       "      <td>A3</td>\n",
       "      <td>2016</td>\n",
       "      <td>18300</td>\n",
       "      <td>Manual</td>\n",
       "      <td>55321</td>\n",
       "      <td>Petrol</td>\n",
       "      <td>200</td>\n",
       "      <td>40.4</td>\n",
       "      <td>0.0</td>\n",
       "    </tr>\n",
       "    <tr>\n",
       "      <td>7892</td>\n",
       "      <td>Q3</td>\n",
       "      <td>2020</td>\n",
       "      <td>32000</td>\n",
       "      <td>Automatic</td>\n",
       "      <td>1500</td>\n",
       "      <td>Petrol</td>\n",
       "      <td>145</td>\n",
       "      <td>31.4</td>\n",
       "      <td>0.0</td>\n",
       "    </tr>\n",
       "    <tr>\n",
       "      <td>8798</td>\n",
       "      <td>A3</td>\n",
       "      <td>2016</td>\n",
       "      <td>12000</td>\n",
       "      <td>Manual</td>\n",
       "      <td>30590</td>\n",
       "      <td>Petrol</td>\n",
       "      <td>30</td>\n",
       "      <td>56.5</td>\n",
       "      <td>0.0</td>\n",
       "    </tr>\n",
       "    <tr>\n",
       "      <td>8866</td>\n",
       "      <td>TT</td>\n",
       "      <td>2017</td>\n",
       "      <td>27000</td>\n",
       "      <td>Automatic</td>\n",
       "      <td>27607</td>\n",
       "      <td>Petrol</td>\n",
       "      <td>200</td>\n",
       "      <td>40.9</td>\n",
       "      <td>0.0</td>\n",
       "    </tr>\n",
       "    <tr>\n",
       "      <td>9897</td>\n",
       "      <td>A3</td>\n",
       "      <td>2005</td>\n",
       "      <td>2495</td>\n",
       "      <td>Manual</td>\n",
       "      <td>122000</td>\n",
       "      <td>Diesel</td>\n",
       "      <td>150</td>\n",
       "      <td>53.3</td>\n",
       "      <td>0.0</td>\n",
       "    </tr>\n",
       "  </tbody>\n",
       "</table>\n",
       "</div>"
      ],
      "text/plain": [
       "     model  year  price transmission  mileage fuelType  tax    mpg  engineSize\n",
       "7505    Q5  2019  44790    Automatic     5886   Petrol  135  117.7         0.0\n",
       "7506    Q3  2019  32788    Automatic     1500   Diesel  145   47.1         0.0\n",
       "7516    Q3  2020  29944       Manual     1500   Petrol  145   40.9         0.0\n",
       "7517    Q3  2020  33333    Automatic     1500   Diesel  145   47.1         0.0\n",
       "7518    Q3  2020  29944    Automatic     1500   Petrol  145   32.5         0.0\n",
       "7519    Q3  2020  37990    Automatic     1500   Petrol  145   30.7         0.0\n",
       "7521    Q5  2020  49790    Automatic     1500   Petrol  135  117.7         0.0\n",
       "7542    Q3  2019  31888       Manual     2001   Petrol  145   40.4         0.0\n",
       "7545    Q2  2020  24988    Automatic     1500   Petrol  145   42.2         0.0\n",
       "7546    A3  2017  17390       Manual     7110   Petrol   30   60.1         0.0\n",
       "7591    Q5  2019  33390    Automatic       45   Diesel  145   39.2         0.0\n",
       "7598    A3  2019  22000       Manual     1500   Petrol  145   47.1         0.0\n",
       "7611    Q3  2020  32444    Automatic     1500   Petrol  145   31.4         0.0\n",
       "7625    A3  2019  23444    Automatic     1500   Petrol  145   44.1         0.0\n",
       "7626    Q3  2020  32444    Automatic     1500   Petrol  145   31.4         0.0\n",
       "7627    Q3  2020  37888    Automatic     1500   Petrol  145   30.7         0.0\n",
       "7628    Q2  2019  24444       Manual     4000   Petrol  145   43.5         0.0\n",
       "7631    A3  2019  23444    Automatic     4000   Petrol  145   44.1         0.0\n",
       "7632    Q2  2020  24990       Manual     1500   Petrol  145   43.5         0.0\n",
       "7641    S4  2020  44888    Automatic     1500   Diesel  145   39.2         0.0\n",
       "7642    Q3  2019  32000    Automatic     4000   Petrol  145   31.4         0.0\n",
       "7644   SQ5  2019  48800    Automatic     1500   Diesel  145   34.5         0.0\n",
       "7647    Q3  2020  31990    Automatic     1500   Petrol  145   40.4         0.0\n",
       "7649    Q2  2020  24888    Automatic     1500   Petrol  145   42.2         0.0\n",
       "7659    Q3  2020  32444    Automatic     1500   Petrol  145   31.4         0.0\n",
       "7662    Q2  2020  24990       Manual     1500   Petrol  145   43.5         0.0\n",
       "7667    Q3  2020  33990    Automatic     1500   Diesel  145   47.1         0.0\n",
       "7668    Q3  2020  30990       Manual     1500   Petrol  145   40.9         0.0\n",
       "7669    Q3  2020  32444    Automatic     1500   Petrol  145   31.4         0.0\n",
       "7670    Q3  2020  37888    Automatic      285   Petrol  145   30.7         0.0\n",
       "7676    Q3  2020  33444    Automatic     1500   Petrol  145   31.4         0.0\n",
       "7685    A4  2014  14950    Automatic    33894   Diesel  200   47.1         0.0\n",
       "7688    S4  2019  39850    Automatic     4129   Diesel  145   40.4         0.0\n",
       "7694    Q3  2020  30990       Manual     1500   Petrol  145   40.9         0.0\n",
       "7698    Q3  2020  36790    Automatic     1330   Petrol  145   30.7         0.0\n",
       "7700    Q5  2019  44450    Automatic     5225   Petrol  135  117.7         0.0\n",
       "7711    A5  2019  27000       Manual     1325   Petrol  145   37.7         0.0\n",
       "7718    S4  2019  45000    Automatic     4900   Diesel  145   40.4         0.0\n",
       "7728   SQ5  2020  56450    Automatic     1500   Diesel  145   34.5         0.0\n",
       "7732    Q3  2020  33990    Automatic     4000   Diesel  145   47.1         0.0\n",
       "7739    Q3  2020  38888    Automatic     1500   Petrol  145   30.7         0.0\n",
       "7740    Q3  2020  41888    Automatic     1500   Petrol  145   31.0         0.0\n",
       "7741    Q2  2019  23888       Manual     1076   Petrol  145   43.5         0.0\n",
       "7743    Q3  2020  29990    Automatic     1500   Diesel  145   47.1         0.0\n",
       "7748    Q5  2020  38444    Automatic     1500   Petrol  145   32.1         0.0\n",
       "7749    Q3  2020  29488       Manual     1500   Petrol  145   40.9         0.0\n",
       "7762    Q3  2020  30000    Automatic     1500   Petrol  145   40.9         0.0\n",
       "7835    A5  2015  16700    Automatic    45104   Diesel  125   58.9         0.0\n",
       "7836    A5  2016  19000       Manual    26237   Diesel  150   56.5         0.0\n",
       "7837    Q3  2017  19300       Manual    16051   Diesel  150   52.3         0.0\n",
       "7859    A1  2019  19500       Manual     5696   Petrol  145   50.4         0.0\n",
       "7861    TT  2016  22500    Automatic    45182   Petrol  200   40.9         0.0\n",
       "7864    A3  2016  18300       Manual    55321   Petrol  200   40.4         0.0\n",
       "7892    Q3  2020  32000    Automatic     1500   Petrol  145   31.4         0.0\n",
       "8798    A3  2016  12000       Manual    30590   Petrol   30   56.5         0.0\n",
       "8866    TT  2017  27000    Automatic    27607   Petrol  200   40.9         0.0\n",
       "9897    A3  2005   2495       Manual   122000   Diesel  150   53.3         0.0"
      ]
     },
     "execution_count": 8,
     "metadata": {},
     "output_type": "execute_result"
    }
   ],
   "source": [
    "cars.loc[(cars['engineSize']==0)]"
   ]
  },
  {
   "cell_type": "markdown",
   "metadata": {
    "id": "9wbJ-4pTGHpq"
   },
   "source": [
    "Jika telah ditelusuri, kita dapat menghapus data tersebut lalu melakukan kembali deskripsi statistik dengan fungsi describe()"
   ]
  },
  {
   "cell_type": "code",
   "execution_count": null,
   "metadata": {
    "id": "2pqOQxhrGHpr"
   },
   "outputs": [],
   "source": [
    "cars = cars.loc[(cars[['tax']] >= 1).all(axis=1)]\n",
    "cars = cars.loc[(cars[['engineSize']] >= 1).all(axis=1)]"
   ]
  },
  {
   "cell_type": "code",
   "execution_count": null,
   "metadata": {
    "id": "DFRYvAKpGHpt",
    "outputId": "a6f45ae1-de73-4764-cf60-efcb605544a8"
   },
   "outputs": [
    {
     "data": {
      "text/plain": [
       "(10075, 9)"
      ]
     },
     "execution_count": 10,
     "metadata": {},
     "output_type": "execute_result"
    }
   ],
   "source": [
    "cars.shape"
   ]
  },
  {
   "cell_type": "code",
   "execution_count": null,
   "metadata": {
    "id": "bGJrRBpPGHp6",
    "outputId": "8608febf-075a-42bc-b809-b9f24e437c04"
   },
   "outputs": [
    {
     "data": {
      "text/html": [
       "<div>\n",
       "<style scoped>\n",
       "    .dataframe tbody tr th:only-of-type {\n",
       "        vertical-align: middle;\n",
       "    }\n",
       "\n",
       "    .dataframe tbody tr th {\n",
       "        vertical-align: top;\n",
       "    }\n",
       "\n",
       "    .dataframe thead th {\n",
       "        text-align: right;\n",
       "    }\n",
       "</style>\n",
       "<table border=\"1\" class=\"dataframe\">\n",
       "  <thead>\n",
       "    <tr style=\"text-align: right;\">\n",
       "      <th></th>\n",
       "      <th>year</th>\n",
       "      <th>price</th>\n",
       "      <th>mileage</th>\n",
       "      <th>tax</th>\n",
       "      <th>mpg</th>\n",
       "      <th>engineSize</th>\n",
       "    </tr>\n",
       "  </thead>\n",
       "  <tbody>\n",
       "    <tr>\n",
       "      <td>count</td>\n",
       "      <td>10075.000000</td>\n",
       "      <td>10075.000000</td>\n",
       "      <td>10075.000000</td>\n",
       "      <td>10075.000000</td>\n",
       "      <td>10075.000000</td>\n",
       "      <td>10075.000000</td>\n",
       "    </tr>\n",
       "    <tr>\n",
       "      <td>mean</td>\n",
       "      <td>2017.174789</td>\n",
       "      <td>23480.728337</td>\n",
       "      <td>23979.084963</td>\n",
       "      <td>132.612407</td>\n",
       "      <td>49.419027</td>\n",
       "      <td>1.965042</td>\n",
       "    </tr>\n",
       "    <tr>\n",
       "      <td>std</td>\n",
       "      <td>2.174335</td>\n",
       "      <td>11674.774635</td>\n",
       "      <td>23193.314150</td>\n",
       "      <td>62.315554</td>\n",
       "      <td>10.974784</td>\n",
       "      <td>0.588302</td>\n",
       "    </tr>\n",
       "    <tr>\n",
       "      <td>min</td>\n",
       "      <td>1997.000000</td>\n",
       "      <td>1490.000000</td>\n",
       "      <td>1.000000</td>\n",
       "      <td>20.000000</td>\n",
       "      <td>18.900000</td>\n",
       "      <td>1.000000</td>\n",
       "    </tr>\n",
       "    <tr>\n",
       "      <td>25%</td>\n",
       "      <td>2016.000000</td>\n",
       "      <td>15995.000000</td>\n",
       "      <td>5573.000000</td>\n",
       "      <td>145.000000</td>\n",
       "      <td>40.900000</td>\n",
       "      <td>1.500000</td>\n",
       "    </tr>\n",
       "    <tr>\n",
       "      <td>50%</td>\n",
       "      <td>2017.000000</td>\n",
       "      <td>20956.000000</td>\n",
       "      <td>17713.000000</td>\n",
       "      <td>145.000000</td>\n",
       "      <td>49.600000</td>\n",
       "      <td>2.000000</td>\n",
       "    </tr>\n",
       "    <tr>\n",
       "      <td>75%</td>\n",
       "      <td>2019.000000</td>\n",
       "      <td>28422.500000</td>\n",
       "      <td>35127.500000</td>\n",
       "      <td>145.000000</td>\n",
       "      <td>56.500000</td>\n",
       "      <td>2.000000</td>\n",
       "    </tr>\n",
       "    <tr>\n",
       "      <td>max</td>\n",
       "      <td>2020.000000</td>\n",
       "      <td>145000.000000</td>\n",
       "      <td>323000.000000</td>\n",
       "      <td>580.000000</td>\n",
       "      <td>156.900000</td>\n",
       "      <td>6.300000</td>\n",
       "    </tr>\n",
       "  </tbody>\n",
       "</table>\n",
       "</div>"
      ],
      "text/plain": [
       "               year          price        mileage           tax           mpg  \\\n",
       "count  10075.000000   10075.000000   10075.000000  10075.000000  10075.000000   \n",
       "mean    2017.174789   23480.728337   23979.084963    132.612407     49.419027   \n",
       "std        2.174335   11674.774635   23193.314150     62.315554     10.974784   \n",
       "min     1997.000000    1490.000000       1.000000     20.000000     18.900000   \n",
       "25%     2016.000000   15995.000000    5573.000000    145.000000     40.900000   \n",
       "50%     2017.000000   20956.000000   17713.000000    145.000000     49.600000   \n",
       "75%     2019.000000   28422.500000   35127.500000    145.000000     56.500000   \n",
       "max     2020.000000  145000.000000  323000.000000    580.000000    156.900000   \n",
       "\n",
       "         engineSize  \n",
       "count  10075.000000  \n",
       "mean       1.965042  \n",
       "std        0.588302  \n",
       "min        1.000000  \n",
       "25%        1.500000  \n",
       "50%        2.000000  \n",
       "75%        2.000000  \n",
       "max        6.300000  "
      ]
     },
     "execution_count": 11,
     "metadata": {},
     "output_type": "execute_result"
    }
   ],
   "source": [
    "cars.describe()"
   ]
  },
  {
   "cell_type": "markdown",
   "metadata": {},
   "source": [
    "hasilnya nilai nimimum berubah menjadi 1 dan tidak terdapat missing value pada dataset tersebut. "
   ]
  },
  {
   "cell_type": "markdown",
   "metadata": {
    "id": "X7S4KQzQGHp-"
   },
   "source": [
    "**Univarariate Analysis** \\\n",
    "\n",
    "Unvariate analysis merupakan proses untuk mengeksplorasi dan menjelaskan setiap variabel dalam kumpulan data secara terpisah. "
   ]
  },
  {
   "cell_type": "markdown",
   "metadata": {},
   "source": [
    "sebelum melakukan unvariate analysis, terlebih dahulu kita membagi semua fitur menjadi dua kelompok fitur yaitu fitur numerik dan fitur kategorikal. "
   ]
  },
  {
   "cell_type": "code",
   "execution_count": null,
   "metadata": {
    "id": "mIeJ8zzgGHqA"
   },
   "outputs": [],
   "source": [
    "numerical_features = ['price', 'year', 'mileage', 'tax', 'mpg', 'engineSize']\n",
    "categorical_features = ['model', 'transmission', 'fuelType']"
   ]
  },
  {
   "cell_type": "markdown",
   "metadata": {
    "id": "yXRRdW2PGHqB"
   },
   "source": [
    "lalu dimulai dengan menganalisis fitur kategorial. diawali dengan fitur model"
   ]
  },
  {
   "cell_type": "markdown",
   "metadata": {
    "id": "5RlAaeSYGHqH"
   },
   "source": [
    "**fitur model**"
   ]
  },
  {
   "cell_type": "code",
   "execution_count": null,
   "metadata": {
    "id": "_EkoLrA-GHqI",
    "outputId": "945da708-c29f-4f22-f881-a023d9458b24"
   },
   "outputs": [
    {
     "name": "stdout",
     "output_type": "stream",
     "text": [
      "      jumlah sampel  persentase\n",
      " A3            1790        17.8\n",
      " Q3            1390        13.8\n",
      " A4            1305        13.0\n",
      " A1            1019        10.1\n",
      " A5             879         8.7\n",
      " Q5             872         8.7\n",
      " Q2             816         8.1\n",
      " A6             748         7.4\n",
      " Q7             395         3.9\n",
      " TT             334         3.3\n",
      " A7             122         1.2\n",
      " A8             118         1.2\n",
      " Q8              69         0.7\n",
      " RS6             39         0.4\n",
      " RS3             33         0.3\n",
      " RS4             31         0.3\n",
      " RS5             29         0.3\n",
      " R8              28         0.3\n",
      " S3              18         0.2\n",
      " SQ5             14         0.1\n",
      " S4               9         0.1\n",
      " SQ7              8         0.1\n",
      " S8               4         0.0\n",
      " S5               3         0.0\n",
      " A2               1         0.0\n",
      " RS7              1         0.0\n"
     ]
    },
    {
     "data": {
      "image/png": "[encoded data removed]",
      "text/plain": [
       "<Figure size 432x288 with 1 Axes>"
      ]
     },
     "metadata": {
      "needs_background": "light"
     },
     "output_type": "display_data"
    }
   ],
   "source": [
    "feature = categorical_features[0]\n",
    "count = cars[feature].value_counts()\n",
    "percent = 100*cars[feature].value_counts(normalize=True)\n",
    "df = pd.DataFrame({'jumlah sampel':count, 'persentase':percent.round(1)})\n",
    "print(df)\n",
    "count.plot(kind='bar', title=feature);"
   ]
  },
  {
   "cell_type": "markdown",
   "metadata": {
    "id": "5Z70B0XMGHqK"
   },
   "source": [
    "**fitur transmission**"
   ]
  },
  {
   "cell_type": "code",
   "execution_count": null,
   "metadata": {
    "id": "PDmiKpSdGHqK",
    "outputId": "4acd6387-b0bf-46af-9c7f-7ebcb3154bee"
   },
   "outputs": [
    {
     "name": "stdout",
     "output_type": "stream",
     "text": [
      "           jumlah sampel  persentase\n",
      "Manual              3869        38.4\n",
      "Semi-Auto           3570        35.4\n",
      "Automatic           2636        26.2\n"
     ]
    },
    {
     "data": {
      "image/png": "[encoded data removed]",
      "text/plain": [
       "<Figure size 432x288 with 1 Axes>"
      ]
     },
     "metadata": {
      "needs_background": "light"
     },
     "output_type": "display_data"
    }
   ],
   "source": [
    "feature = categorical_features[1]\n",
    "count = cars[feature].value_counts()\n",
    "percent = 100*cars[feature].value_counts(normalize=True)\n",
    "df = pd.DataFrame({'jumlah sampel':count, 'persentase':percent.round(1)})\n",
    "print(df)\n",
    "count.plot(kind='bar', title=feature);"
   ]
  },
  {
   "cell_type": "markdown",
   "metadata": {
    "id": "yxo2yPfVGHqN"
   },
   "source": [
    "**fitur fuelType**"
   ]
  },
  {
   "cell_type": "code",
   "execution_count": null,
   "metadata": {
    "id": "XZjmB1PvGHqP",
    "outputId": "f5f2f3f4-7c20-4560-cbf2-c2a9159735e0"
   },
   "outputs": [
    {
     "name": "stdout",
     "output_type": "stream",
     "text": [
      "        jumlah sampel  persentase\n",
      "Diesel           5186        51.5\n",
      "Petrol           4874        48.4\n",
      "Hybrid             15         0.1\n"
     ]
    },
    {
     "data": {
      "image/png": "[encoded data removed]",
      "text/plain": [
       "<Figure size 432x288 with 1 Axes>"
      ]
     },
     "metadata": {
      "needs_background": "light"
     },
     "output_type": "display_data"
    }
   ],
   "source": [
    "feature = categorical_features[2]\n",
    "count = cars[feature].value_counts()\n",
    "percent = 100*cars[feature].value_counts(normalize=True)\n",
    "df = pd.DataFrame({'jumlah sampel':count, 'persentase':percent.round(1)})\n",
    "print(df)\n",
    "count.plot(kind='bar', title=feature);"
   ]
  },
  {
   "cell_type": "markdown",
   "metadata": {
    "id": "uafn3tU9GHqR"
   },
   "source": [
    "Selanjutnya, pada fitur numerikal"
   ]
  },
  {
   "cell_type": "code",
   "execution_count": null,
   "metadata": {
    "id": "N7zGAZR6GHqS",
    "outputId": "4d3449fd-7924-4357-e5e6-bea346319e46"
   },
   "outputs": [
    {
     "data": {
      "image/png": "[encoded data removed]",
      "text/plain": [
       "<Figure size 1440x1080 with 6 Axes>"
      ]
     },
     "metadata": {
      "needs_background": "light"
     },
     "output_type": "display_data"
    }
   ],
   "source": [
    "cars.hist(bins=50, figsize=(20,15))\n",
    "plt.show()"
   ]
  },
  {
   "cell_type": "markdown",
   "metadata": {
    "id": "wlH4Zm4CGHqd"
   },
   "source": [
    "**Multivariate Analysis** \\\n",
    "Multivariate analysis merupakan proses eksplorasi yang melibatkan banyak (dua atau lebih) variabel pada data. dalam hal ini kita akan menganalisis keterkaitan/korelasi antara fitur target (price) dengan fitur lainnya."
   ]
  },
  {
   "cell_type": "markdown",
   "metadata": {
    "id": "F72Kl9RYGHqg"
   },
   "source": [
    "fitur kategorikal \\"
   ]
  },
  {
   "cell_type": "code",
   "execution_count": null,
   "metadata": {
    "id": "YKOT5GHRGHqh",
    "outputId": "5ea5680a-83a1-427c-f208-78aa235090bc"
   },
   "outputs": [
    {
     "data": {
      "image/png": "[encoded data removed]",
      "text/plain": [
       "<Figure size 864x288 with 1 Axes>"
      ]
     },
     "metadata": {
      "needs_background": "light"
     },
     "output_type": "display_data"
    },
    {
     "data": {
      "image/png": "[encoded data removed]",
      "text/plain": [
       "<Figure size 864x288 with 1 Axes>"
      ]
     },
     "metadata": {
      "needs_background": "light"
     },
     "output_type": "display_data"
    },
    {
     "data": {
      "image/png": "[encoded data removed]",
      "text/plain": [
       "<Figure size 864x288 with 1 Axes>"
      ]
     },
     "metadata": {
      "needs_background": "light"
     },
     "output_type": "display_data"
    }
   ],
   "source": [
    "cat_features = cars.select_dtypes(include='object').columns.to_list()\n",
    " \n",
    "for col in cat_features:\n",
    "  sns.catplot(x=col, y=\"price\", kind=\"bar\", dodge=False, height = 4, aspect = 3,  data=cars, palette=\"Set3\")\n",
    "  plt.title(\"Rata-rata 'price' Relatif terhadap - {}\".format(col))"
   ]
  },
  {
   "cell_type": "markdown",
   "metadata": {},
   "source": [
    "hasil yang didapat : \n",
    "\n",
    "- untuk fitur 'model', sebagian besar model memiliki rata-rata harga yang bervariasi. kirasan 20000-40000 euro. namun ada juga model yang memiliki harga yang cukup tinggi yaitu model R8. hal ini menunjukan bahwa model memiliki pengaruh yang cukup kecil terhadap harga.\n",
    "\n",
    "- untuk fitur 'transmission', automatic transmission dan semi auto memiliki harga yang cukup tinggi.\n",
    "\n",
    "- untuk FuelType, hybrid memiliki harga yang tinggi, sedangkan pada petrol dan diesel memiliki selisih harga yang tidak beda jauh.\n",
    "\n",
    "- dapat disimpulkan bahwa ketiga fitur kategori mempengaruhi rata-rata harga. "
   ]
  },
  {
   "cell_type": "markdown",
   "metadata": {
    "id": "pMfimGQnGHqi"
   },
   "source": [
    "fitur numerikal \\"
   ]
  },
  {
   "cell_type": "markdown",
   "metadata": {},
   "source": [
    "menggunakan pairplot() serta menggunakan corr() untuk menghitung korelasi antar fitur target dengan fitur numerik "
   ]
  },
  {
   "cell_type": "code",
   "execution_count": null,
   "metadata": {
    "id": "0yYNmVffGHqj",
    "outputId": "905ee515-273f-4b9a-f877-08d5bacc87bd"
   },
   "outputs": [
    {
     "data": {
      "text/plain": [
       "<seaborn.axisgrid.PairGrid at 0x27a459fe748>"
      ]
     },
     "execution_count": 19,
     "metadata": {},
     "output_type": "execute_result"
    },
    {
     "data": {
      "image/png": "[encoded data removed]",
      "text/plain": [
       "<Figure size 1080x1080 with 42 Axes>"
      ]
     },
     "metadata": {
      "needs_background": "light"
     },
     "output_type": "display_data"
    }
   ],
   "source": [
    "sns.pairplot(cars, diag_kind = 'kde')"
   ]
  },
  {
   "cell_type": "markdown",
   "metadata": {},
   "source": [
    "hasil nya : \n",
    "\n",
    "pada kasus diatas, terjadi relasi antar fitur numerik dengan fitur target(price). pada grafik year dan engineSize terjadi korelasi positif, kemudian pada grafik mileage dan mpg terjadi korelasi negatif. sedangkan pada grafik tax tidak memiliki korelasi "
   ]
  },
  {
   "cell_type": "markdown",
   "metadata": {},
   "source": [
    "untuk melihat hasil korelasi secara numerik, dapat menggunakan corr()"
   ]
  },
  {
   "cell_type": "code",
   "execution_count": null,
   "metadata": {
    "id": "hHXKq708GHqo",
    "outputId": "81efb049-6b35-46cf-e725-1a8df8f4263a"
   },
   "outputs": [
    {
     "data": {
      "text/plain": [
       "Text(0.5, 1, 'Correlation Matrix untuk Fitur Numerik ')"
      ]
     },
     "execution_count": 20,
     "metadata": {},
     "output_type": "execute_result"
    },
    {
     "data": {
      "image/png": "[encoded data removed]",
      "text/plain": [
       "<Figure size 720x576 with 2 Axes>"
      ]
     },
     "metadata": {
      "needs_background": "light"
     },
     "output_type": "display_data"
    }
   ],
   "source": [
    "plt.figure(figsize=(10, 8))\n",
    "correlation_matrix = cars.corr().round(2)\n",
    "# annot = True to print the values inside the square\n",
    "sns.heatmap(data=correlation_matrix, annot=True, cmap='coolwarm', linewidths=0.5, )\n",
    "plt.title(\"Correlation Matrix untuk Fitur Numerik \", size=20)"
   ]
  },
  {
   "cell_type": "markdown",
   "metadata": {},
   "source": [
    "Perhatikan pada baris price karena kita akan mengamati korelasi antara fitur price dengan fitur numerik lainnya.  pada fitur year dan engineSize memiliki nilai korelasi mendekati 1, lalu pada fitur mileage dan mpg memiliki nilai korelasi mendekati -1 sedangkan fitur tax memiliki nilai korelasi mendekati 0 (korelasi lemah). \n",
    "\n",
    "oleh karena itu, fitur tax tidak berkorelasi dengan fitur price sehingga fitur tax dapat di drop. "
   ]
  },
  {
   "cell_type": "code",
   "execution_count": null,
   "metadata": {
    "id": "B0MFHg80GHqr",
    "outputId": "fc4e511e-eddc-462f-8ec1-d18f45add18b"
   },
   "outputs": [
    {
     "data": {
      "text/html": [
       "<div>\n",
       "<style scoped>\n",
       "    .dataframe tbody tr th:only-of-type {\n",
       "        vertical-align: middle;\n",
       "    }\n",
       "\n",
       "    .dataframe tbody tr th {\n",
       "        vertical-align: top;\n",
       "    }\n",
       "\n",
       "    .dataframe thead th {\n",
       "        text-align: right;\n",
       "    }\n",
       "</style>\n",
       "<table border=\"1\" class=\"dataframe\">\n",
       "  <thead>\n",
       "    <tr style=\"text-align: right;\">\n",
       "      <th></th>\n",
       "      <th>model</th>\n",
       "      <th>year</th>\n",
       "      <th>price</th>\n",
       "      <th>transmission</th>\n",
       "      <th>mileage</th>\n",
       "      <th>fuelType</th>\n",
       "      <th>mpg</th>\n",
       "      <th>engineSize</th>\n",
       "    </tr>\n",
       "  </thead>\n",
       "  <tbody>\n",
       "    <tr>\n",
       "      <td>0</td>\n",
       "      <td>A1</td>\n",
       "      <td>2017</td>\n",
       "      <td>12500</td>\n",
       "      <td>Manual</td>\n",
       "      <td>15735</td>\n",
       "      <td>Petrol</td>\n",
       "      <td>55.4</td>\n",
       "      <td>1.4</td>\n",
       "    </tr>\n",
       "    <tr>\n",
       "      <td>1</td>\n",
       "      <td>A6</td>\n",
       "      <td>2016</td>\n",
       "      <td>16500</td>\n",
       "      <td>Automatic</td>\n",
       "      <td>36203</td>\n",
       "      <td>Diesel</td>\n",
       "      <td>64.2</td>\n",
       "      <td>2.0</td>\n",
       "    </tr>\n",
       "    <tr>\n",
       "      <td>2</td>\n",
       "      <td>A1</td>\n",
       "      <td>2016</td>\n",
       "      <td>11000</td>\n",
       "      <td>Manual</td>\n",
       "      <td>29946</td>\n",
       "      <td>Petrol</td>\n",
       "      <td>55.4</td>\n",
       "      <td>1.4</td>\n",
       "    </tr>\n",
       "    <tr>\n",
       "      <td>3</td>\n",
       "      <td>A4</td>\n",
       "      <td>2017</td>\n",
       "      <td>16800</td>\n",
       "      <td>Automatic</td>\n",
       "      <td>25952</td>\n",
       "      <td>Diesel</td>\n",
       "      <td>67.3</td>\n",
       "      <td>2.0</td>\n",
       "    </tr>\n",
       "    <tr>\n",
       "      <td>4</td>\n",
       "      <td>A3</td>\n",
       "      <td>2019</td>\n",
       "      <td>17300</td>\n",
       "      <td>Manual</td>\n",
       "      <td>1998</td>\n",
       "      <td>Petrol</td>\n",
       "      <td>49.6</td>\n",
       "      <td>1.0</td>\n",
       "    </tr>\n",
       "  </tbody>\n",
       "</table>\n",
       "</div>"
      ],
      "text/plain": [
       "  model  year  price transmission  mileage fuelType   mpg  engineSize\n",
       "0    A1  2017  12500       Manual    15735   Petrol  55.4         1.4\n",
       "1    A6  2016  16500    Automatic    36203   Diesel  64.2         2.0\n",
       "2    A1  2016  11000       Manual    29946   Petrol  55.4         1.4\n",
       "3    A4  2017  16800    Automatic    25952   Diesel  67.3         2.0\n",
       "4    A3  2019  17300       Manual     1998   Petrol  49.6         1.0"
      ]
     },
     "execution_count": 21,
     "metadata": {},
     "output_type": "execute_result"
    }
   ],
   "source": [
    "cars.drop(['tax'], inplace=True, axis=1)\n",
    "cars.head()"
   ]
  },
  {
   "cell_type": "markdown",
   "metadata": {
    "id": "nIfwV0twGHqs"
   },
   "source": [
    "## Data Preparation"
   ]
  },
  {
   "cell_type": "markdown",
   "metadata": {
    "id": "1HQ6dmz0GHqt"
   },
   "source": [
    " - Encoding categorical Feature\n",
    "\n",
    "mengubah fitur kategori menjadi fitur numerik dengan teknik one-hot-encoding. Hal ini dilakukan karena mesin hanya dapat memproses data yang bernilai numerik khusunya bernilai 0 dan 1. kita dapat menggunakan library pandas dengan fungsi get_dummies()"
   ]
  },
  {
   "cell_type": "code",
   "execution_count": null,
   "metadata": {
    "id": "uCIp0h8XGHqu",
    "outputId": "66fb524e-02df-4f0d-d82f-b05bb1e29c3b"
   },
   "outputs": [
    {
     "data": {
      "text/html": [
       "<div>\n",
       "<style scoped>\n",
       "    .dataframe tbody tr th:only-of-type {\n",
       "        vertical-align: middle;\n",
       "    }\n",
       "\n",
       "    .dataframe tbody tr th {\n",
       "        vertical-align: top;\n",
       "    }\n",
       "\n",
       "    .dataframe thead th {\n",
       "        text-align: right;\n",
       "    }\n",
       "</style>\n",
       "<table border=\"1\" class=\"dataframe\">\n",
       "  <thead>\n",
       "    <tr style=\"text-align: right;\">\n",
       "      <th></th>\n",
       "      <th>year</th>\n",
       "      <th>price</th>\n",
       "      <th>mileage</th>\n",
       "      <th>mpg</th>\n",
       "      <th>engineSize</th>\n",
       "      <th>model_ A2</th>\n",
       "      <th>model_ A3</th>\n",
       "      <th>model_ A4</th>\n",
       "      <th>model_ A5</th>\n",
       "      <th>model_ A6</th>\n",
       "      <th>...</th>\n",
       "      <th>model_ S4</th>\n",
       "      <th>model_ S5</th>\n",
       "      <th>model_ S8</th>\n",
       "      <th>model_ SQ5</th>\n",
       "      <th>model_ SQ7</th>\n",
       "      <th>model_ TT</th>\n",
       "      <th>transmission_Manual</th>\n",
       "      <th>transmission_Semi-Auto</th>\n",
       "      <th>fuelType_Hybrid</th>\n",
       "      <th>fuelType_Petrol</th>\n",
       "    </tr>\n",
       "  </thead>\n",
       "  <tbody>\n",
       "    <tr>\n",
       "      <td>0</td>\n",
       "      <td>2017</td>\n",
       "      <td>12500</td>\n",
       "      <td>15735</td>\n",
       "      <td>55.4</td>\n",
       "      <td>1.4</td>\n",
       "      <td>0</td>\n",
       "      <td>0</td>\n",
       "      <td>0</td>\n",
       "      <td>0</td>\n",
       "      <td>0</td>\n",
       "      <td>...</td>\n",
       "      <td>0</td>\n",
       "      <td>0</td>\n",
       "      <td>0</td>\n",
       "      <td>0</td>\n",
       "      <td>0</td>\n",
       "      <td>0</td>\n",
       "      <td>1</td>\n",
       "      <td>0</td>\n",
       "      <td>0</td>\n",
       "      <td>1</td>\n",
       "    </tr>\n",
       "    <tr>\n",
       "      <td>1</td>\n",
       "      <td>2016</td>\n",
       "      <td>16500</td>\n",
       "      <td>36203</td>\n",
       "      <td>64.2</td>\n",
       "      <td>2.0</td>\n",
       "      <td>0</td>\n",
       "      <td>0</td>\n",
       "      <td>0</td>\n",
       "      <td>0</td>\n",
       "      <td>1</td>\n",
       "      <td>...</td>\n",
       "      <td>0</td>\n",
       "      <td>0</td>\n",
       "      <td>0</td>\n",
       "      <td>0</td>\n",
       "      <td>0</td>\n",
       "      <td>0</td>\n",
       "      <td>0</td>\n",
       "      <td>0</td>\n",
       "      <td>0</td>\n",
       "      <td>0</td>\n",
       "    </tr>\n",
       "    <tr>\n",
       "      <td>2</td>\n",
       "      <td>2016</td>\n",
       "      <td>11000</td>\n",
       "      <td>29946</td>\n",
       "      <td>55.4</td>\n",
       "      <td>1.4</td>\n",
       "      <td>0</td>\n",
       "      <td>0</td>\n",
       "      <td>0</td>\n",
       "      <td>0</td>\n",
       "      <td>0</td>\n",
       "      <td>...</td>\n",
       "      <td>0</td>\n",
       "      <td>0</td>\n",
       "      <td>0</td>\n",
       "      <td>0</td>\n",
       "      <td>0</td>\n",
       "      <td>0</td>\n",
       "      <td>1</td>\n",
       "      <td>0</td>\n",
       "      <td>0</td>\n",
       "      <td>1</td>\n",
       "    </tr>\n",
       "    <tr>\n",
       "      <td>3</td>\n",
       "      <td>2017</td>\n",
       "      <td>16800</td>\n",
       "      <td>25952</td>\n",
       "      <td>67.3</td>\n",
       "      <td>2.0</td>\n",
       "      <td>0</td>\n",
       "      <td>0</td>\n",
       "      <td>1</td>\n",
       "      <td>0</td>\n",
       "      <td>0</td>\n",
       "      <td>...</td>\n",
       "      <td>0</td>\n",
       "      <td>0</td>\n",
       "      <td>0</td>\n",
       "      <td>0</td>\n",
       "      <td>0</td>\n",
       "      <td>0</td>\n",
       "      <td>0</td>\n",
       "      <td>0</td>\n",
       "      <td>0</td>\n",
       "      <td>0</td>\n",
       "    </tr>\n",
       "    <tr>\n",
       "      <td>4</td>\n",
       "      <td>2019</td>\n",
       "      <td>17300</td>\n",
       "      <td>1998</td>\n",
       "      <td>49.6</td>\n",
       "      <td>1.0</td>\n",
       "      <td>0</td>\n",
       "      <td>1</td>\n",
       "      <td>0</td>\n",
       "      <td>0</td>\n",
       "      <td>0</td>\n",
       "      <td>...</td>\n",
       "      <td>0</td>\n",
       "      <td>0</td>\n",
       "      <td>0</td>\n",
       "      <td>0</td>\n",
       "      <td>0</td>\n",
       "      <td>0</td>\n",
       "      <td>1</td>\n",
       "      <td>0</td>\n",
       "      <td>0</td>\n",
       "      <td>1</td>\n",
       "    </tr>\n",
       "  </tbody>\n",
       "</table>\n",
       "<p>5 rows × 34 columns</p>\n",
       "</div>"
      ],
      "text/plain": [
       "   year  price  mileage   mpg  engineSize  model_ A2  model_ A3  model_ A4  \\\n",
       "0  2017  12500    15735  55.4         1.4          0          0          0   \n",
       "1  2016  16500    36203  64.2         2.0          0          0          0   \n",
       "2  2016  11000    29946  55.4         1.4          0          0          0   \n",
       "3  2017  16800    25952  67.3         2.0          0          0          1   \n",
       "4  2019  17300     1998  49.6         1.0          0          1          0   \n",
       "\n",
       "   model_ A5  model_ A6  ...  model_ S4  model_ S5  model_ S8  model_ SQ5  \\\n",
       "0          0          0  ...          0          0          0           0   \n",
       "1          0          1  ...          0          0          0           0   \n",
       "2          0          0  ...          0          0          0           0   \n",
       "3          0          0  ...          0          0          0           0   \n",
       "4          0          0  ...          0          0          0           0   \n",
       "\n",
       "   model_ SQ7  model_ TT  transmission_Manual  transmission_Semi-Auto  \\\n",
       "0           0          0                    1                       0   \n",
       "1           0          0                    0                       0   \n",
       "2           0          0                    1                       0   \n",
       "3           0          0                    0                       0   \n",
       "4           0          0                    1                       0   \n",
       "\n",
       "   fuelType_Hybrid  fuelType_Petrol  \n",
       "0                0                1  \n",
       "1                0                0  \n",
       "2                0                1  \n",
       "3                0                0  \n",
       "4                0                1  \n",
       "\n",
       "[5 rows x 34 columns]"
      ]
     },
     "execution_count": 22,
     "metadata": {},
     "output_type": "execute_result"
    }
   ],
   "source": [
    "from sklearn.preprocessing import  OneHotEncoder\n",
    "cars = pd.concat([cars, pd.get_dummies(cars['model'], prefix='model', drop_first=True)],axis=1)\n",
    "cars = pd.concat([cars, pd.get_dummies(cars['transmission'], prefix='transmission', drop_first=True)],axis=1)\n",
    "cars = pd.concat([cars, pd.get_dummies(cars['fuelType'], prefix='fuelType', drop_first=True)],axis=1)\n",
    "cars.drop(['model','transmission','fuelType'], axis=1, inplace=True)\n",
    "cars.head()"
   ]
  },
  {
   "cell_type": "markdown",
   "metadata": {
    "id": "g35uqcUaGHqw"
   },
   "source": [
    "- Train test Split \\\n",
    "\n",
    "teknik digunakan untuk membagi dataset menjadi data latih dan data uji. dalam kasus ini, pembagiannya 90:10 "
   ]
  },
  {
   "cell_type": "code",
   "execution_count": null,
   "metadata": {
    "id": "crUp32toGHqw"
   },
   "outputs": [],
   "source": [
    "from sklearn.model_selection import train_test_split\n",
    " \n",
    "X = cars.drop([\"price\"],axis =1)\n",
    "y = cars[\"price\"]\n",
    "X_train, X_test, y_train, y_test = train_test_split(X, y, test_size = 0.1, random_state = 123)"
   ]
  },
  {
   "cell_type": "markdown",
   "metadata": {},
   "source": [
    "cek jumlah sampel ada masing-masing bagian"
   ]
  },
  {
   "cell_type": "code",
   "execution_count": null,
   "metadata": {
    "id": "HRs_qhlqGHqy",
    "outputId": "e8ceb528-7805-43b2-bb1e-9dbf6cacb606"
   },
   "outputs": [
    {
     "name": "stdout",
     "output_type": "stream",
     "text": [
      "Total # of sample in whole dataset: 10075\n",
      "Total # of sample in train dataset: 9067\n",
      "Total # of sample in test dataset: 1008\n"
     ]
    }
   ],
   "source": [
    "print(f'Total # of sample in whole dataset: {len(X)}')\n",
    "print(f'Total # of sample in train dataset: {len(X_train)}')\n",
    "print(f'Total # of sample in test dataset: {len(X_test)}') "
   ]
  },
  {
   "cell_type": "markdown",
   "metadata": {
    "id": "JyuHJsQbGHq0"
   },
   "source": [
    "- Standarisation \\\n",
    "\n",
    "Tujuan standarisasi adalah agar performa algoritma Machine Learning lebih baik serta dapat mempermudah data diolah oleh algoritma. Standarisasi dilakukan dengan mengurangi mean kemudian membaginya dengan milai standar deviasi untuk menggeser distribusi. Kita akan menggunakan library scikitlearn dengan teknik StandarScaler. \n",
    "\n",
    "kita terapkan standarisasi pada data latih, sedangkan pada tahap evaluasi diterapkan standarisasi pada data uji"
   ]
  },
  {
   "cell_type": "code",
   "execution_count": null,
   "metadata": {
    "id": "swaMptgRGHq8",
    "outputId": "0b74a98a-5825-4b32-aa77-5b99d12cd54c"
   },
   "outputs": [
    {
     "name": "stderr",
     "output_type": "stream",
     "text": [
      "C:\\ProgramData\\Anaconda3\\lib\\site-packages\\ipykernel_launcher.py:6: SettingWithCopyWarning: \n",
      "A value is trying to be set on a copy of a slice from a DataFrame.\n",
      "Try using .loc[row_indexer,col_indexer] = value instead\n",
      "\n",
      "See the caveats in the documentation: http://pandas.pydata.org/pandas-docs/stable/user_guide/indexing.html#returning-a-view-versus-a-copy\n",
      "  \n",
      "C:\\ProgramData\\Anaconda3\\lib\\site-packages\\pandas\\core\\indexing.py:494: SettingWithCopyWarning: \n",
      "A value is trying to be set on a copy of a slice from a DataFrame.\n",
      "Try using .loc[row_indexer,col_indexer] = value instead\n",
      "\n",
      "See the caveats in the documentation: http://pandas.pydata.org/pandas-docs/stable/user_guide/indexing.html#returning-a-view-versus-a-copy\n",
      "  self.obj[item] = s\n"
     ]
    },
    {
     "data": {
      "text/html": [
       "<div>\n",
       "<style scoped>\n",
       "    .dataframe tbody tr th:only-of-type {\n",
       "        vertical-align: middle;\n",
       "    }\n",
       "\n",
       "    .dataframe tbody tr th {\n",
       "        vertical-align: top;\n",
       "    }\n",
       "\n",
       "    .dataframe thead th {\n",
       "        text-align: right;\n",
       "    }\n",
       "</style>\n",
       "<table border=\"1\" class=\"dataframe\">\n",
       "  <thead>\n",
       "    <tr style=\"text-align: right;\">\n",
       "      <th></th>\n",
       "      <th>year</th>\n",
       "      <th>mileage</th>\n",
       "      <th>mpg</th>\n",
       "      <th>engineSize</th>\n",
       "    </tr>\n",
       "  </thead>\n",
       "  <tbody>\n",
       "    <tr>\n",
       "      <td>820</td>\n",
       "      <td>-1.020912</td>\n",
       "      <td>-0.430685</td>\n",
       "      <td>0.544961</td>\n",
       "      <td>-0.955204</td>\n",
       "    </tr>\n",
       "    <tr>\n",
       "      <td>6447</td>\n",
       "      <td>-0.087974</td>\n",
       "      <td>-0.624873</td>\n",
       "      <td>0.744999</td>\n",
       "      <td>-0.955204</td>\n",
       "    </tr>\n",
       "    <tr>\n",
       "      <td>3385</td>\n",
       "      <td>0.378495</td>\n",
       "      <td>-0.986360</td>\n",
       "      <td>0.090329</td>\n",
       "      <td>1.757453</td>\n",
       "    </tr>\n",
       "    <tr>\n",
       "      <td>7884</td>\n",
       "      <td>-1.020912</td>\n",
       "      <td>1.823574</td>\n",
       "      <td>-2.046442</td>\n",
       "      <td>3.791946</td>\n",
       "    </tr>\n",
       "    <tr>\n",
       "      <td>5069</td>\n",
       "      <td>-0.554443</td>\n",
       "      <td>0.316066</td>\n",
       "      <td>-0.537063</td>\n",
       "      <td>0.062042</td>\n",
       "    </tr>\n",
       "  </tbody>\n",
       "</table>\n",
       "</div>"
      ],
      "text/plain": [
       "          year   mileage       mpg  engineSize\n",
       "820  -1.020912 -0.430685  0.544961   -0.955204\n",
       "6447 -0.087974 -0.624873  0.744999   -0.955204\n",
       "3385  0.378495 -0.986360  0.090329    1.757453\n",
       "7884 -1.020912  1.823574 -2.046442    3.791946\n",
       "5069 -0.554443  0.316066 -0.537063    0.062042"
      ]
     },
     "execution_count": 25,
     "metadata": {},
     "output_type": "execute_result"
    }
   ],
   "source": [
    "#standarisasi dengan menggunakan teknik StandarScaler\n",
    "from sklearn.preprocessing import StandardScaler\n",
    " \n",
    "numerical_features = ['year', 'mileage','mpg','engineSize']\n",
    "scaler = StandardScaler()\n",
    "scaler.fit(X_train[numerical_features])\n",
    "X_train[numerical_features] = scaler.transform(X_train.loc[:, numerical_features])\n",
    "X_train[numerical_features].head()"
   ]
  },
  {
   "cell_type": "markdown",
   "metadata": {},
   "source": [
    "cek hasil standarisasi dengan menggunakan describe()"
   ]
  },
  {
   "cell_type": "code",
   "execution_count": null,
   "metadata": {
    "id": "BAgb9Sr_GHq-",
    "outputId": "7855e7af-3c57-497a-843d-782eee88d36a"
   },
   "outputs": [
    {
     "data": {
      "text/html": [
       "<div>\n",
       "<style scoped>\n",
       "    .dataframe tbody tr th:only-of-type {\n",
       "        vertical-align: middle;\n",
       "    }\n",
       "\n",
       "    .dataframe tbody tr th {\n",
       "        vertical-align: top;\n",
       "    }\n",
       "\n",
       "    .dataframe thead th {\n",
       "        text-align: right;\n",
       "    }\n",
       "</style>\n",
       "<table border=\"1\" class=\"dataframe\">\n",
       "  <thead>\n",
       "    <tr style=\"text-align: right;\">\n",
       "      <th></th>\n",
       "      <th>year</th>\n",
       "      <th>mileage</th>\n",
       "      <th>mpg</th>\n",
       "      <th>engineSize</th>\n",
       "    </tr>\n",
       "  </thead>\n",
       "  <tbody>\n",
       "    <tr>\n",
       "      <td>count</td>\n",
       "      <td>9067.0000</td>\n",
       "      <td>9067.0000</td>\n",
       "      <td>9067.0000</td>\n",
       "      <td>9067.0000</td>\n",
       "    </tr>\n",
       "    <tr>\n",
       "      <td>mean</td>\n",
       "      <td>0.0000</td>\n",
       "      <td>-0.0000</td>\n",
       "      <td>0.0000</td>\n",
       "      <td>-0.0000</td>\n",
       "    </tr>\n",
       "    <tr>\n",
       "      <td>std</td>\n",
       "      <td>1.0001</td>\n",
       "      <td>1.0001</td>\n",
       "      <td>1.0001</td>\n",
       "      <td>1.0001</td>\n",
       "    </tr>\n",
       "    <tr>\n",
       "      <td>min</td>\n",
       "      <td>-9.4174</td>\n",
       "      <td>-1.0295</td>\n",
       "      <td>-2.7739</td>\n",
       "      <td>-1.6334</td>\n",
       "    </tr>\n",
       "    <tr>\n",
       "      <td>25%</td>\n",
       "      <td>-0.5544</td>\n",
       "      <td>-0.7903</td>\n",
       "      <td>-0.7735</td>\n",
       "      <td>-0.7857</td>\n",
       "    </tr>\n",
       "    <tr>\n",
       "      <td>50%</td>\n",
       "      <td>-0.0880</td>\n",
       "      <td>-0.2767</td>\n",
       "      <td>0.0176</td>\n",
       "      <td>0.0620</td>\n",
       "    </tr>\n",
       "    <tr>\n",
       "      <td>75%</td>\n",
       "      <td>0.8450</td>\n",
       "      <td>0.4802</td>\n",
       "      <td>0.6450</td>\n",
       "      <td>0.0620</td>\n",
       "    </tr>\n",
       "    <tr>\n",
       "      <td>max</td>\n",
       "      <td>1.3114</td>\n",
       "      <td>12.9336</td>\n",
       "      <td>9.7740</td>\n",
       "      <td>7.3523</td>\n",
       "    </tr>\n",
       "  </tbody>\n",
       "</table>\n",
       "</div>"
      ],
      "text/plain": [
       "            year    mileage        mpg  engineSize\n",
       "count  9067.0000  9067.0000  9067.0000   9067.0000\n",
       "mean      0.0000    -0.0000     0.0000     -0.0000\n",
       "std       1.0001     1.0001     1.0001      1.0001\n",
       "min      -9.4174    -1.0295    -2.7739     -1.6334\n",
       "25%      -0.5544    -0.7903    -0.7735     -0.7857\n",
       "50%      -0.0880    -0.2767     0.0176      0.0620\n",
       "75%       0.8450     0.4802     0.6450      0.0620\n",
       "max       1.3114    12.9336     9.7740      7.3523"
      ]
     },
     "execution_count": 26,
     "metadata": {},
     "output_type": "execute_result"
    }
   ],
   "source": [
    "X_train[numerical_features].describe().round(4)"
   ]
  },
  {
   "cell_type": "markdown",
   "metadata": {},
   "source": [
    "hasilnya, nilai mean berubah menjadi 0 dan nilai standar deviasi menjadi 1. menandakan bahwa dataset siap untuk dilatih menggunakan Model ML"
   ]
  },
  {
   "cell_type": "markdown",
   "metadata": {
    "id": "PDNr8wbmGHrA"
   },
   "source": [
    "## Modeling"
   ]
  },
  {
   "cell_type": "markdown",
   "metadata": {
    "id": "mZCwMJX3GHrB"
   },
   "source": [
    "Model yang akan digunakan dalam menyelesaikan permasalahan prediksi harga mobil ini, diantaranya KNN, Random Forest, dan Boosting. \n",
    "\n",
    "Sebelum masuk ke tahapan modeling dengan ketiga model diatas, terlebih dahulu siapkan dataframe untuk analisa model nantinya. "
   ]
  },
  {
   "cell_type": "code",
   "execution_count": null,
   "metadata": {
    "id": "v9PSnQHfGHrB"
   },
   "outputs": [],
   "source": [
    "models = pd.DataFrame(index=['train_mse', 'test_mse'], \n",
    "                      columns=['KNN', 'RandomForest', 'Boosting'])"
   ]
  },
  {
   "cell_type": "markdown",
   "metadata": {
    "id": "qO3_2JdHGHrC"
   },
   "source": [
    "* K-Nearest Neighbor \\\n",
    "\n",
    "cara kerja :\n",
    "      a. tentukan parameter k \\\n",
    "      b. Hitung jarak antara data yang akan dievaluasi dengan semua pelatihan \\\n",
    "      c. urutkan jarak yang berbentuk menaik \\\n",
    "      d. tentukan jarak trdekat sampai urutan k \\\n",
    "      e. pasangkan kelas yang bersesuaian \\\n",
    "      f. cari jumlah kelas dari tetangga yang terdekat dan tetapkan kelas tersebut sebagai kelas data yang akan dievaluasi \\"
   ]
  },
  {
   "cell_type": "code",
   "execution_count": null,
   "metadata": {
    "id": "XxNcHyZOGHrD"
   },
   "outputs": [],
   "source": [
    "from sklearn.neighbors import KNeighborsRegressor\n",
    " \n",
    "knn = KNeighborsRegressor(n_neighbors=10)\n",
    "knn.fit(X_train, y_train)\n",
    "y_pred_knn = knn.predict(X_train)"
   ]
  },
  {
   "cell_type": "markdown",
   "metadata": {
    "id": "ScMj63UiGHrE"
   },
   "source": [
    "* Random Forest \\\n",
    "\n",
    "cara kerja : \n",
    "Random forest  adalah kombinasi dari  masing – masing tree yang baik kemudian dikombinasikan  ke dalam satu model. Random Forest bergantung pada sebuah nilai vector random dengan distribusi yang sama pada semua pohon yang masing masing decision tree memiliki kedalaman yang maksimal. \n"
   ]
  },
  {
   "cell_type": "code",
   "execution_count": null,
   "metadata": {
    "id": "96gHSrfjGHrE"
   },
   "outputs": [],
   "source": [
    "from sklearn.metrics import mean_squared_error\n",
    "from sklearn.ensemble import RandomForestRegressor\n",
    " \n",
    "\n",
    "RF = RandomForestRegressor(n_estimators=50, max_depth=16, random_state=55, n_jobs=-1)\n",
    "RF.fit(X_train, y_train)\n",
    " \n",
    "models.loc['train_mse','RandomForest'] = mean_squared_error(y_pred=RF.predict(X_train), y_true=y_train) "
   ]
  },
  {
   "cell_type": "markdown",
   "metadata": {
    "id": "JLjgybtcGHrK"
   },
   "source": [
    "* Boosting\\\n",
    "cara kerja : \n",
    "Algoritma boosting bekerja dengan membangun model dari data latih. Kemudian ia membuat model kedua yang bertugas memperbaiki kesalahan dari model pertama. Model ditambahkan sampai data latih terprediksi dengan baik atau telah mencapai jumlah maksimum model untuk ditambahkan. "
   ]
  },
  {
   "cell_type": "code",
   "execution_count": null,
   "metadata": {
    "id": "2GGyoSyEGHrL"
   },
   "outputs": [],
   "source": [
    "from sklearn.ensemble import AdaBoostRegressor\n",
    " \n",
    "boosting = AdaBoostRegressor(n_estimators=50, learning_rate=0.05, random_state=55)                             \n",
    "boosting.fit(X_train, y_train)\n",
    "models.loc['train_mse','Boosting'] = mean_squared_error(y_pred=boosting.predict(X_train), y_true=y_train)"
   ]
  },
  {
   "cell_type": "markdown",
   "metadata": {
    "id": "ckHlVbKjGHrN"
   },
   "source": [
    "## Evaluation"
   ]
  },
  {
   "cell_type": "markdown",
   "metadata": {
    "id": "C0hHJtmpJW-b"
   },
   "source": [
    "Karena masalah yang diselesaikan termasuk regresi, maka metrik yang akan kita gunakan pada prediksi ini adalah MSE atau Mean Squared Error yang menghitung selisih rata-rata nilai sebenarnya dengan nilai prediksi. \n",
    "\n",
    "Sebelum menghitung nilai MSE, kita akan lakukan scaling fitur numerik pada data uji. Tujuannya untuk menghindari kebocoraan data."
   ]
  },
  {
   "cell_type": "code",
   "execution_count": null,
   "metadata": {
    "id": "Myi0XliwGHrP",
    "outputId": "842a6136-a30a-4538-c152-200781f1491d"
   },
   "outputs": [
    {
     "name": "stderr",
     "output_type": "stream",
     "text": [
      "C:\\ProgramData\\Anaconda3\\lib\\site-packages\\pandas\\core\\indexing.py:494: SettingWithCopyWarning: \n",
      "A value is trying to be set on a copy of a slice from a DataFrame.\n",
      "Try using .loc[row_indexer,col_indexer] = value instead\n",
      "\n",
      "See the caveats in the documentation: http://pandas.pydata.org/pandas-docs/stable/user_guide/indexing.html#returning-a-view-versus-a-copy\n",
      "  self.obj[item] = s\n"
     ]
    }
   ],
   "source": [
    "X_test.loc[:, numerical_features] = scaler.transform(X_test[numerical_features])"
   ]
  },
  {
   "cell_type": "markdown",
   "metadata": {
    "id": "VvuoR0MTJq0Q"
   },
   "source": [
    "Selanjutnya dilakukan evaluasi terhadap 3 model algoritma machine learning dengan metrik MSE."
   ]
  },
  {
   "cell_type": "code",
   "execution_count": null,
   "metadata": {
    "id": "ok3qWI-eGHrR",
    "outputId": "67177917-cb0f-47df-a5b5-617f0710ecbf"
   },
   "outputs": [
    {
     "data": {
      "text/html": [
       "<div>\n",
       "<style scoped>\n",
       "    .dataframe tbody tr th:only-of-type {\n",
       "        vertical-align: middle;\n",
       "    }\n",
       "\n",
       "    .dataframe tbody tr th {\n",
       "        vertical-align: top;\n",
       "    }\n",
       "\n",
       "    .dataframe thead th {\n",
       "        text-align: right;\n",
       "    }\n",
       "</style>\n",
       "<table border=\"1\" class=\"dataframe\">\n",
       "  <thead>\n",
       "    <tr style=\"text-align: right;\">\n",
       "      <th></th>\n",
       "      <th>train</th>\n",
       "      <th>test</th>\n",
       "    </tr>\n",
       "  </thead>\n",
       "  <tbody>\n",
       "    <tr>\n",
       "      <td>KNN</td>\n",
       "      <td>6170.57</td>\n",
       "      <td>8921.86</td>\n",
       "    </tr>\n",
       "    <tr>\n",
       "      <td>RF</td>\n",
       "      <td>1431.57</td>\n",
       "      <td>4725.16</td>\n",
       "    </tr>\n",
       "    <tr>\n",
       "      <td>Boosting</td>\n",
       "      <td>27964.1</td>\n",
       "      <td>31396.6</td>\n",
       "    </tr>\n",
       "  </tbody>\n",
       "</table>\n",
       "</div>"
      ],
      "text/plain": [
       "            train     test\n",
       "KNN       6170.57  8921.86\n",
       "RF        1431.57  4725.16\n",
       "Boosting  27964.1  31396.6"
      ]
     },
     "execution_count": 32,
     "metadata": {},
     "output_type": "execute_result"
    }
   ],
   "source": [
    "mse = pd.DataFrame(columns=['train', 'test'], index=['KNN','RF','Boosting'])\n",
    "model_dict = {'KNN': knn, 'RF': RF, 'Boosting': boosting}\n",
    "for name, model in model_dict.items():\n",
    "    mse.loc[name, 'train'] = mean_squared_error(y_true=y_train, y_pred=model.predict(X_train))/1e3 \n",
    "    mse.loc[name, 'test'] = mean_squared_error(y_true=y_test, y_pred=model.predict(X_test))/1e3\n",
    " \n",
    "mse"
   ]
  },
  {
   "cell_type": "markdown",
   "metadata": {},
   "source": [
    "visualisasikan ke dalam bentuk bar chart"
   ]
  },
  {
   "cell_type": "code",
   "execution_count": null,
   "metadata": {
    "id": "3W6KKJU8GHrT",
    "outputId": "eefd736e-f432-41d2-f06d-38cc34fd257c"
   },
   "outputs": [
    {
     "data": {
      "image/png": "[encoded data removed]",
      "text/plain": [
       "<Figure size 432x288 with 1 Axes>"
      ]
     },
     "metadata": {
      "needs_background": "light"
     },
     "output_type": "display_data"
    }
   ],
   "source": [
    "fig, ax = plt.subplots()\n",
    "mse.sort_values(by='test', ascending=False).plot(kind='barh', ax=ax, zorder=3)\n",
    "ax.grid(zorder=0)"
   ]
  },
  {
   "cell_type": "markdown",
   "metadata": {},
   "source": [
    "Untuk mengujinya, kita dapat membuat prediksi dengan beberapa harga dari dataset. "
   ]
  },
  {
   "cell_type": "code",
   "execution_count": null,
   "metadata": {
    "id": "ijzWICreGHrV",
    "outputId": "ce100270-8a08-4824-dac9-90ebe69c81ae"
   },
   "outputs": [
    {
     "data": {
      "text/html": [
       "<div>\n",
       "<style scoped>\n",
       "    .dataframe tbody tr th:only-of-type {\n",
       "        vertical-align: middle;\n",
       "    }\n",
       "\n",
       "    .dataframe tbody tr th {\n",
       "        vertical-align: top;\n",
       "    }\n",
       "\n",
       "    .dataframe thead th {\n",
       "        text-align: right;\n",
       "    }\n",
       "</style>\n",
       "<table border=\"1\" class=\"dataframe\">\n",
       "  <thead>\n",
       "    <tr style=\"text-align: right;\">\n",
       "      <th></th>\n",
       "      <th>y_true</th>\n",
       "      <th>prediksi_KNN</th>\n",
       "      <th>prediksi_RF</th>\n",
       "      <th>prediksi_Boosting</th>\n",
       "    </tr>\n",
       "  </thead>\n",
       "  <tbody>\n",
       "    <tr>\n",
       "      <td>6902</td>\n",
       "      <td>18899</td>\n",
       "      <td>15607.1</td>\n",
       "      <td>17415.0</td>\n",
       "      <td>15863.1</td>\n",
       "    </tr>\n",
       "  </tbody>\n",
       "</table>\n",
       "</div>"
      ],
      "text/plain": [
       "      y_true  prediksi_KNN  prediksi_RF  prediksi_Boosting\n",
       "6902   18899       15607.1      17415.0            15863.1"
      ]
     },
     "execution_count": 34,
     "metadata": {},
     "output_type": "execute_result"
    }
   ],
   "source": [
    "prediksi = X_test.iloc[:1].copy()\n",
    "pred_dict = {'y_true':y_test[:1]}\n",
    "for name, model in model_dict.items():\n",
    "    pred_dict['prediksi_'+name] = model.predict(prediksi).round(1)\n",
    " \n",
    "pd.DataFrame(pred_dict)"
   ]
  },
  {
   "cell_type": "markdown",
   "metadata": {},
   "source": [
    "Hasil uji menunjukkan bahwa prediksi dengan Random Forest memberikan hasil yang mendekati."
   ]
  }
 ],
 "metadata": {
  "colab": {
   "name": "car-price-prediction-KNN-Algorithm-Copy3.ipynb",
   "provenance": [],
   "toc_visible": true
  },
  "kernelspec": {
   "display_name": "Python 3",
   "language": "python",
   "name": "python3"
  },
  "language_info": {
   "codemirror_mode": {
    "name": "ipython",
    "version": 3
   },
   "file_extension": ".py",
   "mimetype": "text/x-python",
   "name": "python",
   "nbconvert_exporter": "python",
   "pygments_lexer": "ipython3",
   "version": "3.7.4"
  }
 },
 "nbformat": 4,
 "nbformat_minor": 1
}
